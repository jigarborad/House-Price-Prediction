{
  "nbformat": 4,
  "nbformat_minor": 0,
  "metadata": {
    "colab": {
      "name": "Copy of house price prediction.ipynb",
      "provenance": [],
      "collapsed_sections": [
        "VadrvE7s_lS9"
      ]
    },
    "kernelspec": {
      "name": "python3",
      "display_name": "Python 3"
    }
  },
  "cells": [
    {
      "cell_type": "markdown",
      "metadata": {
        "id": "CazISR8X_HUG"
      },
      "source": [
        "# Multiple Linear Regression"
      ]
    },
    {
      "cell_type": "markdown",
      "metadata": {
        "id": "pOyqYHTk_Q57"
      },
      "source": [
        "## Importing the libraries"
      ]
    },
    {
      "cell_type": "code",
      "metadata": {
        "id": "T_YHJjnD_Tja"
      },
      "source": [
        "import numpy as np\n",
        "import matplotlib.pyplot as plt\n",
        "import pandas as pd"
      ],
      "execution_count": 1,
      "outputs": []
    },
    {
      "cell_type": "markdown",
      "metadata": {
        "id": "vgC61-ah_WIz"
      },
      "source": [
        "## Importing the dataset"
      ]
    },
    {
      "cell_type": "code",
      "metadata": {
        "id": "UrxyEKGn_ez7"
      },
      "source": [
        "train_dataset = pd.read_csv('train.csv')\n",
        "test_dataset = pd.read_csv('test.csv')"
      ],
      "execution_count": 2,
      "outputs": []
    },
    {
      "cell_type": "markdown",
      "source": [
        "# Get 10 most null valued columns"
      ],
      "metadata": {
        "id": "E0pDKC3eyXI4"
      }
    },
    {
      "cell_type": "code",
      "source": [
        "train_dataset.isnull().sum().nlargest(10)"
      ],
      "metadata": {
        "colab": {
          "base_uri": "https://localhost:8080/"
        },
        "id": "TV8c7YPkkWF0",
        "outputId": "eb32586e-8387-43bd-c18f-99d13390ee87"
      },
      "execution_count": 3,
      "outputs": [
        {
          "output_type": "execute_result",
          "data": {
            "text/plain": [
              "PoolQC          1453\n",
              "MiscFeature     1406\n",
              "Alley           1369\n",
              "Fence           1179\n",
              "FireplaceQu      690\n",
              "LotFrontage      259\n",
              "GarageType        81\n",
              "GarageYrBlt       81\n",
              "GarageFinish      81\n",
              "GarageQual        81\n",
              "dtype: int64"
            ]
          },
          "metadata": {},
          "execution_count": 3
        }
      ]
    },
    {
      "cell_type": "code",
      "source": [
        "test_dataset.isnull().sum().nlargest(10)"
      ],
      "metadata": {
        "colab": {
          "base_uri": "https://localhost:8080/"
        },
        "id": "Q7Kn4n3Ome3S",
        "outputId": "e8fed68f-2d98-42bc-b92f-74c685ee4eec"
      },
      "execution_count": 4,
      "outputs": [
        {
          "output_type": "execute_result",
          "data": {
            "text/plain": [
              "PoolQC          1456\n",
              "MiscFeature     1408\n",
              "Alley           1352\n",
              "Fence           1169\n",
              "FireplaceQu      730\n",
              "LotFrontage      227\n",
              "GarageYrBlt       78\n",
              "GarageFinish      78\n",
              "GarageQual        78\n",
              "GarageCond        78\n",
              "dtype: int64"
            ]
          },
          "metadata": {},
          "execution_count": 4
        }
      ]
    },
    {
      "cell_type": "markdown",
      "source": [
        "# Delete the columns which have more than 50% null values"
      ],
      "metadata": {
        "id": "69yoVxHCylyY"
      }
    },
    {
      "cell_type": "code",
      "source": [
        "columns_with_more_nan_values = ['PoolQC' ,'MiscFeature' ,'Alley', 'Fence', 'FireplaceQu']\n",
        "train_dataset = train_dataset.drop(columns_with_more_nan_values, axis = 1)\n",
        "test_dataset = test_dataset.drop(columns_with_more_nan_values, axis = 1)\n",
        "train_dataset.info()"
      ],
      "metadata": {
        "colab": {
          "base_uri": "https://localhost:8080/"
        },
        "id": "hDKn6msXnV6y",
        "outputId": "71b4e298-1dec-40e4-a75d-6b5e4984aed8"
      },
      "execution_count": 5,
      "outputs": [
        {
          "output_type": "stream",
          "name": "stdout",
          "text": [
            "<class 'pandas.core.frame.DataFrame'>\n",
            "RangeIndex: 1460 entries, 0 to 1459\n",
            "Data columns (total 76 columns):\n",
            " #   Column         Non-Null Count  Dtype  \n",
            "---  ------         --------------  -----  \n",
            " 0   Id             1460 non-null   int64  \n",
            " 1   MSSubClass     1460 non-null   int64  \n",
            " 2   MSZoning       1460 non-null   object \n",
            " 3   LotFrontage    1201 non-null   float64\n",
            " 4   LotArea        1460 non-null   int64  \n",
            " 5   Street         1460 non-null   object \n",
            " 6   LotShape       1460 non-null   object \n",
            " 7   LandContour    1460 non-null   object \n",
            " 8   Utilities      1460 non-null   object \n",
            " 9   LotConfig      1460 non-null   object \n",
            " 10  LandSlope      1460 non-null   object \n",
            " 11  Neighborhood   1460 non-null   object \n",
            " 12  Condition1     1460 non-null   object \n",
            " 13  Condition2     1460 non-null   object \n",
            " 14  BldgType       1460 non-null   object \n",
            " 15  HouseStyle     1460 non-null   object \n",
            " 16  OverallQual    1460 non-null   int64  \n",
            " 17  OverallCond    1460 non-null   int64  \n",
            " 18  YearBuilt      1460 non-null   int64  \n",
            " 19  YearRemodAdd   1460 non-null   int64  \n",
            " 20  RoofStyle      1460 non-null   object \n",
            " 21  RoofMatl       1460 non-null   object \n",
            " 22  Exterior1st    1460 non-null   object \n",
            " 23  Exterior2nd    1460 non-null   object \n",
            " 24  MasVnrType     1452 non-null   object \n",
            " 25  MasVnrArea     1452 non-null   float64\n",
            " 26  ExterQual      1460 non-null   object \n",
            " 27  ExterCond      1460 non-null   object \n",
            " 28  Foundation     1460 non-null   object \n",
            " 29  BsmtQual       1423 non-null   object \n",
            " 30  BsmtCond       1423 non-null   object \n",
            " 31  BsmtExposure   1422 non-null   object \n",
            " 32  BsmtFinType1   1423 non-null   object \n",
            " 33  BsmtFinSF1     1460 non-null   int64  \n",
            " 34  BsmtFinType2   1422 non-null   object \n",
            " 35  BsmtFinSF2     1460 non-null   int64  \n",
            " 36  BsmtUnfSF      1460 non-null   int64  \n",
            " 37  TotalBsmtSF    1460 non-null   int64  \n",
            " 38  Heating        1460 non-null   object \n",
            " 39  HeatingQC      1460 non-null   object \n",
            " 40  CentralAir     1460 non-null   object \n",
            " 41  Electrical     1459 non-null   object \n",
            " 42  1stFlrSF       1460 non-null   int64  \n",
            " 43  2ndFlrSF       1460 non-null   int64  \n",
            " 44  LowQualFinSF   1460 non-null   int64  \n",
            " 45  GrLivArea      1460 non-null   int64  \n",
            " 46  BsmtFullBath   1460 non-null   int64  \n",
            " 47  BsmtHalfBath   1460 non-null   int64  \n",
            " 48  FullBath       1460 non-null   int64  \n",
            " 49  HalfBath       1460 non-null   int64  \n",
            " 50  BedroomAbvGr   1460 non-null   int64  \n",
            " 51  KitchenAbvGr   1460 non-null   int64  \n",
            " 52  KitchenQual    1460 non-null   object \n",
            " 53  TotRmsAbvGrd   1460 non-null   int64  \n",
            " 54  Functional     1460 non-null   object \n",
            " 55  Fireplaces     1460 non-null   int64  \n",
            " 56  GarageType     1379 non-null   object \n",
            " 57  GarageYrBlt    1379 non-null   float64\n",
            " 58  GarageFinish   1379 non-null   object \n",
            " 59  GarageCars     1460 non-null   int64  \n",
            " 60  GarageArea     1460 non-null   int64  \n",
            " 61  GarageQual     1379 non-null   object \n",
            " 62  GarageCond     1379 non-null   object \n",
            " 63  PavedDrive     1460 non-null   object \n",
            " 64  WoodDeckSF     1460 non-null   int64  \n",
            " 65  OpenPorchSF    1460 non-null   int64  \n",
            " 66  EnclosedPorch  1460 non-null   int64  \n",
            " 67  3SsnPorch      1460 non-null   int64  \n",
            " 68  ScreenPorch    1460 non-null   int64  \n",
            " 69  PoolArea       1460 non-null   int64  \n",
            " 70  MiscVal        1460 non-null   int64  \n",
            " 71  MoSold         1460 non-null   int64  \n",
            " 72  YrSold         1460 non-null   int64  \n",
            " 73  SaleType       1460 non-null   object \n",
            " 74  SaleCondition  1460 non-null   object \n",
            " 75  SalePrice      1460 non-null   int64  \n",
            "dtypes: float64(3), int64(35), object(38)\n",
            "memory usage: 867.0+ KB\n"
          ]
        }
      ]
    },
    {
      "cell_type": "markdown",
      "source": [
        "# Get the categorical features"
      ],
      "metadata": {
        "id": "aOyVD1DFywfv"
      }
    },
    {
      "cell_type": "code",
      "metadata": {
        "id": "GOB3QhV9B5kD",
        "colab": {
          "base_uri": "https://localhost:8080/"
        },
        "outputId": "48ef08af-e211-44e5-f51b-6d4441859e7d"
      },
      "source": [
        "categorical_features = train_dataset.select_dtypes(object).columns.values\n",
        "categorical_features"
      ],
      "execution_count": 6,
      "outputs": [
        {
          "output_type": "execute_result",
          "data": {
            "text/plain": [
              "array(['MSZoning', 'Street', 'LotShape', 'LandContour', 'Utilities',\n",
              "       'LotConfig', 'LandSlope', 'Neighborhood', 'Condition1',\n",
              "       'Condition2', 'BldgType', 'HouseStyle', 'RoofStyle', 'RoofMatl',\n",
              "       'Exterior1st', 'Exterior2nd', 'MasVnrType', 'ExterQual',\n",
              "       'ExterCond', 'Foundation', 'BsmtQual', 'BsmtCond', 'BsmtExposure',\n",
              "       'BsmtFinType1', 'BsmtFinType2', 'Heating', 'HeatingQC',\n",
              "       'CentralAir', 'Electrical', 'KitchenQual', 'Functional',\n",
              "       'GarageType', 'GarageFinish', 'GarageQual', 'GarageCond',\n",
              "       'PavedDrive', 'SaleType', 'SaleCondition'], dtype=object)"
            ]
          },
          "metadata": {},
          "execution_count": 6
        }
      ]
    },
    {
      "cell_type": "code",
      "source": [
        "categorical_data_headers = ['MSZoning', 'Street', 'LotShape', 'LandContour', 'Utilities',\n",
        "       'LotConfig', 'LandSlope', 'Neighborhood', 'Condition1',\n",
        "       'Condition2', 'BldgType', 'HouseStyle', 'RoofStyle', 'RoofMatl',\n",
        "       'Exterior1st', 'Exterior2nd', 'MasVnrType', 'ExterQual',\n",
        "       'ExterCond', 'Foundation', 'BsmtQual', 'BsmtCond', 'BsmtExposure',\n",
        "       'BsmtFinType1', 'BsmtFinType2', 'Heating', 'HeatingQC',\n",
        "       'CentralAir', 'Electrical', 'KitchenQual', 'Functional',\n",
        "       'GarageType', 'GarageFinish', 'GarageQual', 'GarageCond',\n",
        "       'PavedDrive', 'SaleType', 'SaleCondition']"
      ],
      "metadata": {
        "id": "WdvFLjfAhxPz"
      },
      "execution_count": 7,
      "outputs": []
    },
    {
      "cell_type": "markdown",
      "source": [
        "# Fill the null values in categorical data with missing"
      ],
      "metadata": {
        "id": "xv10HWclzEeu"
      }
    },
    {
      "cell_type": "code",
      "source": [
        "from sklearn.impute import SimpleImputer\n",
        "# Declare Simple Imputer\n",
        "cat_impute = SimpleImputer(strategy = 'constant', fill_value = 'missing')\n",
        "\n",
        "# Get Mean for all features\n",
        "for i in categorical_data_headers:\n",
        "  cat_impute.fit(train_dataset[[i]])\n",
        "# Tranform Train\n",
        "  train_dataset[[i]] = cat_impute.transform(train_dataset[[i]])\n",
        "\n",
        "# Tranform Predict\n",
        "  test_dataset[[i]] = cat_impute.transform(test_dataset[[i]])"
      ],
      "metadata": {
        "id": "bFPc-Thvw88v"
      },
      "execution_count": 8,
      "outputs": []
    },
    {
      "cell_type": "code",
      "source": [
        "train_dataset.info()   # chake again no of null values"
      ],
      "metadata": {
        "id": "JRANFm0G1Aa4",
        "colab": {
          "base_uri": "https://localhost:8080/"
        },
        "outputId": "24fd9735-c822-4250-cbce-1683d94daf0b"
      },
      "execution_count": 9,
      "outputs": [
        {
          "output_type": "stream",
          "name": "stdout",
          "text": [
            "<class 'pandas.core.frame.DataFrame'>\n",
            "RangeIndex: 1460 entries, 0 to 1459\n",
            "Data columns (total 76 columns):\n",
            " #   Column         Non-Null Count  Dtype  \n",
            "---  ------         --------------  -----  \n",
            " 0   Id             1460 non-null   int64  \n",
            " 1   MSSubClass     1460 non-null   int64  \n",
            " 2   MSZoning       1460 non-null   object \n",
            " 3   LotFrontage    1201 non-null   float64\n",
            " 4   LotArea        1460 non-null   int64  \n",
            " 5   Street         1460 non-null   object \n",
            " 6   LotShape       1460 non-null   object \n",
            " 7   LandContour    1460 non-null   object \n",
            " 8   Utilities      1460 non-null   object \n",
            " 9   LotConfig      1460 non-null   object \n",
            " 10  LandSlope      1460 non-null   object \n",
            " 11  Neighborhood   1460 non-null   object \n",
            " 12  Condition1     1460 non-null   object \n",
            " 13  Condition2     1460 non-null   object \n",
            " 14  BldgType       1460 non-null   object \n",
            " 15  HouseStyle     1460 non-null   object \n",
            " 16  OverallQual    1460 non-null   int64  \n",
            " 17  OverallCond    1460 non-null   int64  \n",
            " 18  YearBuilt      1460 non-null   int64  \n",
            " 19  YearRemodAdd   1460 non-null   int64  \n",
            " 20  RoofStyle      1460 non-null   object \n",
            " 21  RoofMatl       1460 non-null   object \n",
            " 22  Exterior1st    1460 non-null   object \n",
            " 23  Exterior2nd    1460 non-null   object \n",
            " 24  MasVnrType     1460 non-null   object \n",
            " 25  MasVnrArea     1452 non-null   float64\n",
            " 26  ExterQual      1460 non-null   object \n",
            " 27  ExterCond      1460 non-null   object \n",
            " 28  Foundation     1460 non-null   object \n",
            " 29  BsmtQual       1460 non-null   object \n",
            " 30  BsmtCond       1460 non-null   object \n",
            " 31  BsmtExposure   1460 non-null   object \n",
            " 32  BsmtFinType1   1460 non-null   object \n",
            " 33  BsmtFinSF1     1460 non-null   int64  \n",
            " 34  BsmtFinType2   1460 non-null   object \n",
            " 35  BsmtFinSF2     1460 non-null   int64  \n",
            " 36  BsmtUnfSF      1460 non-null   int64  \n",
            " 37  TotalBsmtSF    1460 non-null   int64  \n",
            " 38  Heating        1460 non-null   object \n",
            " 39  HeatingQC      1460 non-null   object \n",
            " 40  CentralAir     1460 non-null   object \n",
            " 41  Electrical     1460 non-null   object \n",
            " 42  1stFlrSF       1460 non-null   int64  \n",
            " 43  2ndFlrSF       1460 non-null   int64  \n",
            " 44  LowQualFinSF   1460 non-null   int64  \n",
            " 45  GrLivArea      1460 non-null   int64  \n",
            " 46  BsmtFullBath   1460 non-null   int64  \n",
            " 47  BsmtHalfBath   1460 non-null   int64  \n",
            " 48  FullBath       1460 non-null   int64  \n",
            " 49  HalfBath       1460 non-null   int64  \n",
            " 50  BedroomAbvGr   1460 non-null   int64  \n",
            " 51  KitchenAbvGr   1460 non-null   int64  \n",
            " 52  KitchenQual    1460 non-null   object \n",
            " 53  TotRmsAbvGrd   1460 non-null   int64  \n",
            " 54  Functional     1460 non-null   object \n",
            " 55  Fireplaces     1460 non-null   int64  \n",
            " 56  GarageType     1460 non-null   object \n",
            " 57  GarageYrBlt    1379 non-null   float64\n",
            " 58  GarageFinish   1460 non-null   object \n",
            " 59  GarageCars     1460 non-null   int64  \n",
            " 60  GarageArea     1460 non-null   int64  \n",
            " 61  GarageQual     1460 non-null   object \n",
            " 62  GarageCond     1460 non-null   object \n",
            " 63  PavedDrive     1460 non-null   object \n",
            " 64  WoodDeckSF     1460 non-null   int64  \n",
            " 65  OpenPorchSF    1460 non-null   int64  \n",
            " 66  EnclosedPorch  1460 non-null   int64  \n",
            " 67  3SsnPorch      1460 non-null   int64  \n",
            " 68  ScreenPorch    1460 non-null   int64  \n",
            " 69  PoolArea       1460 non-null   int64  \n",
            " 70  MiscVal        1460 non-null   int64  \n",
            " 71  MoSold         1460 non-null   int64  \n",
            " 72  YrSold         1460 non-null   int64  \n",
            " 73  SaleType       1460 non-null   object \n",
            " 74  SaleCondition  1460 non-null   object \n",
            " 75  SalePrice      1460 non-null   int64  \n",
            "dtypes: float64(3), int64(35), object(38)\n",
            "memory usage: 867.0+ KB\n"
          ]
        }
      ]
    },
    {
      "cell_type": "code",
      "source": [
        "test_dataset.info()"
      ],
      "metadata": {
        "id": "2Mgiqs2s7FXM",
        "colab": {
          "base_uri": "https://localhost:8080/"
        },
        "outputId": "fdb51dd5-158d-44de-b108-d603eae62c51"
      },
      "execution_count": 10,
      "outputs": [
        {
          "output_type": "stream",
          "name": "stdout",
          "text": [
            "<class 'pandas.core.frame.DataFrame'>\n",
            "RangeIndex: 1459 entries, 0 to 1458\n",
            "Data columns (total 75 columns):\n",
            " #   Column         Non-Null Count  Dtype  \n",
            "---  ------         --------------  -----  \n",
            " 0   Id             1459 non-null   int64  \n",
            " 1   MSSubClass     1459 non-null   int64  \n",
            " 2   MSZoning       1459 non-null   object \n",
            " 3   LotFrontage    1232 non-null   float64\n",
            " 4   LotArea        1459 non-null   int64  \n",
            " 5   Street         1459 non-null   object \n",
            " 6   LotShape       1459 non-null   object \n",
            " 7   LandContour    1459 non-null   object \n",
            " 8   Utilities      1459 non-null   object \n",
            " 9   LotConfig      1459 non-null   object \n",
            " 10  LandSlope      1459 non-null   object \n",
            " 11  Neighborhood   1459 non-null   object \n",
            " 12  Condition1     1459 non-null   object \n",
            " 13  Condition2     1459 non-null   object \n",
            " 14  BldgType       1459 non-null   object \n",
            " 15  HouseStyle     1459 non-null   object \n",
            " 16  OverallQual    1459 non-null   int64  \n",
            " 17  OverallCond    1459 non-null   int64  \n",
            " 18  YearBuilt      1459 non-null   int64  \n",
            " 19  YearRemodAdd   1459 non-null   int64  \n",
            " 20  RoofStyle      1459 non-null   object \n",
            " 21  RoofMatl       1459 non-null   object \n",
            " 22  Exterior1st    1459 non-null   object \n",
            " 23  Exterior2nd    1459 non-null   object \n",
            " 24  MasVnrType     1459 non-null   object \n",
            " 25  MasVnrArea     1444 non-null   float64\n",
            " 26  ExterQual      1459 non-null   object \n",
            " 27  ExterCond      1459 non-null   object \n",
            " 28  Foundation     1459 non-null   object \n",
            " 29  BsmtQual       1459 non-null   object \n",
            " 30  BsmtCond       1459 non-null   object \n",
            " 31  BsmtExposure   1459 non-null   object \n",
            " 32  BsmtFinType1   1459 non-null   object \n",
            " 33  BsmtFinSF1     1458 non-null   float64\n",
            " 34  BsmtFinType2   1459 non-null   object \n",
            " 35  BsmtFinSF2     1458 non-null   float64\n",
            " 36  BsmtUnfSF      1458 non-null   float64\n",
            " 37  TotalBsmtSF    1458 non-null   float64\n",
            " 38  Heating        1459 non-null   object \n",
            " 39  HeatingQC      1459 non-null   object \n",
            " 40  CentralAir     1459 non-null   object \n",
            " 41  Electrical     1459 non-null   object \n",
            " 42  1stFlrSF       1459 non-null   int64  \n",
            " 43  2ndFlrSF       1459 non-null   int64  \n",
            " 44  LowQualFinSF   1459 non-null   int64  \n",
            " 45  GrLivArea      1459 non-null   int64  \n",
            " 46  BsmtFullBath   1457 non-null   float64\n",
            " 47  BsmtHalfBath   1457 non-null   float64\n",
            " 48  FullBath       1459 non-null   int64  \n",
            " 49  HalfBath       1459 non-null   int64  \n",
            " 50  BedroomAbvGr   1459 non-null   int64  \n",
            " 51  KitchenAbvGr   1459 non-null   int64  \n",
            " 52  KitchenQual    1459 non-null   object \n",
            " 53  TotRmsAbvGrd   1459 non-null   int64  \n",
            " 54  Functional     1459 non-null   object \n",
            " 55  Fireplaces     1459 non-null   int64  \n",
            " 56  GarageType     1459 non-null   object \n",
            " 57  GarageYrBlt    1381 non-null   float64\n",
            " 58  GarageFinish   1459 non-null   object \n",
            " 59  GarageCars     1458 non-null   float64\n",
            " 60  GarageArea     1458 non-null   float64\n",
            " 61  GarageQual     1459 non-null   object \n",
            " 62  GarageCond     1459 non-null   object \n",
            " 63  PavedDrive     1459 non-null   object \n",
            " 64  WoodDeckSF     1459 non-null   int64  \n",
            " 65  OpenPorchSF    1459 non-null   int64  \n",
            " 66  EnclosedPorch  1459 non-null   int64  \n",
            " 67  3SsnPorch      1459 non-null   int64  \n",
            " 68  ScreenPorch    1459 non-null   int64  \n",
            " 69  PoolArea       1459 non-null   int64  \n",
            " 70  MiscVal        1459 non-null   int64  \n",
            " 71  MoSold         1459 non-null   int64  \n",
            " 72  YrSold         1459 non-null   int64  \n",
            " 73  SaleType       1459 non-null   object \n",
            " 74  SaleCondition  1459 non-null   object \n",
            "dtypes: float64(11), int64(26), object(38)\n",
            "memory usage: 855.0+ KB\n"
          ]
        }
      ]
    },
    {
      "cell_type": "markdown",
      "source": [
        "# Now get numerical columns which have null values\n",
        "These are only numerical columns because we already have fii´lled categorical columns"
      ],
      "metadata": {
        "id": "wo_cl7yvzirI"
      }
    },
    {
      "cell_type": "code",
      "source": [
        "train_dataset.columns[train_dataset.isnull().any()]\n"
      ],
      "metadata": {
        "colab": {
          "base_uri": "https://localhost:8080/"
        },
        "id": "kS3l2O-Jvzy_",
        "outputId": "20b8d6d0-6cfc-4b85-9411-12b1eb159779"
      },
      "execution_count": 11,
      "outputs": [
        {
          "output_type": "execute_result",
          "data": {
            "text/plain": [
              "Index(['LotFrontage', 'MasVnrArea', 'GarageYrBlt'], dtype='object')"
            ]
          },
          "metadata": {},
          "execution_count": 11
        }
      ]
    },
    {
      "cell_type": "code",
      "source": [
        "test_dataset.columns[test_dataset.isnull().any()]"
      ],
      "metadata": {
        "colab": {
          "base_uri": "https://localhost:8080/"
        },
        "id": "dbbQWVse7Gzd",
        "outputId": "0e73ad83-f6a0-47ba-bfed-af2514a3ed18"
      },
      "execution_count": 12,
      "outputs": [
        {
          "output_type": "execute_result",
          "data": {
            "text/plain": [
              "Index(['LotFrontage', 'MasVnrArea', 'BsmtFinSF1', 'BsmtFinSF2', 'BsmtUnfSF',\n",
              "       'TotalBsmtSF', 'BsmtFullBath', 'BsmtHalfBath', 'GarageYrBlt',\n",
              "       'GarageCars', 'GarageArea'],\n",
              "      dtype='object')"
            ]
          },
          "metadata": {},
          "execution_count": 12
        }
      ]
    },
    {
      "cell_type": "markdown",
      "source": [
        "# Replace that null values with median"
      ],
      "metadata": {
        "id": "lL_MGs5e0YUv"
      }
    },
    {
      "cell_type": "code",
      "source": [
        "# Declare Simple Imputer\n",
        "num_impute = SimpleImputer(strategy = 'median')\n",
        "# Get Mean for all features for training data\n",
        "num_impute.fit(train_dataset[['LotFrontage', 'MasVnrArea', 'GarageYrBlt']])\n",
        "train_dataset[['LotFrontage', 'MasVnrArea', 'GarageYrBlt']] = num_impute.transform(train_dataset[['LotFrontage', 'MasVnrArea', 'GarageYrBlt']])"
      ],
      "metadata": {
        "id": "D5N6k9g9wSpf"
      },
      "execution_count": 13,
      "outputs": []
    },
    {
      "cell_type": "code",
      "source": [
        "#for test data\n",
        "num_impute.fit(test_dataset[['LotFrontage', 'MasVnrArea', 'BsmtFinSF1', 'BsmtFinSF2', 'BsmtUnfSF',\n",
        "       'TotalBsmtSF', 'BsmtFullBath', 'BsmtHalfBath', 'GarageYrBlt',\n",
        "       'GarageCars', 'GarageArea']])\n",
        "test_dataset[['LotFrontage', 'MasVnrArea', 'BsmtFinSF1', 'BsmtFinSF2', 'BsmtUnfSF',\n",
        "       'TotalBsmtSF', 'BsmtFullBath', 'BsmtHalfBath', 'GarageYrBlt',\n",
        "       'GarageCars', 'GarageArea']] = num_impute.transform(test_dataset[['LotFrontage', 'MasVnrArea', 'BsmtFinSF1', 'BsmtFinSF2', 'BsmtUnfSF',\n",
        "       'TotalBsmtSF', 'BsmtFullBath', 'BsmtHalfBath', 'GarageYrBlt',\n",
        "       'GarageCars', 'GarageArea']])"
      ],
      "metadata": {
        "id": "hEqeP8CX74_m"
      },
      "execution_count": 14,
      "outputs": []
    },
    {
      "cell_type": "code",
      "source": [
        "train_dataset.columns[train_dataset.isnull().any()]"
      ],
      "metadata": {
        "colab": {
          "base_uri": "https://localhost:8080/"
        },
        "id": "Y1ZwZd1Q5SBX",
        "outputId": "9c4c0e55-1ce8-4c72-d61c-b82a9b572381"
      },
      "execution_count": 15,
      "outputs": [
        {
          "output_type": "execute_result",
          "data": {
            "text/plain": [
              "Index([], dtype='object')"
            ]
          },
          "metadata": {},
          "execution_count": 15
        }
      ]
    },
    {
      "cell_type": "code",
      "source": [
        "test_dataset.columns[test_dataset.isnull().any()]"
      ],
      "metadata": {
        "colab": {
          "base_uri": "https://localhost:8080/"
        },
        "id": "GJsLILLV8Lks",
        "outputId": "a90ffa65-cacf-4ba3-ca83-410fa4501cf9"
      },
      "execution_count": 16,
      "outputs": [
        {
          "output_type": "execute_result",
          "data": {
            "text/plain": [
              "Index([], dtype='object')"
            ]
          },
          "metadata": {},
          "execution_count": 16
        }
      ]
    },
    {
      "cell_type": "markdown",
      "metadata": {
        "id": "VadrvE7s_lS9"
      },
      "source": [
        "## Encoding categorical data"
      ]
    },
    {
      "cell_type": "code",
      "source": [
        "train_dataset = pd.get_dummies(train_dataset, columns=categorical_data_headers, prefix=categorical_data_headers)"
      ],
      "metadata": {
        "id": "GhaH9qE03RtV"
      },
      "execution_count": 17,
      "outputs": []
    },
    {
      "cell_type": "code",
      "source": [
        "test_dataset = pd.get_dummies(test_dataset, columns=categorical_data_headers, prefix=categorical_data_headers)"
      ],
      "metadata": {
        "id": "vShO9Vka8TN6"
      },
      "execution_count": 18,
      "outputs": []
    },
    {
      "cell_type": "code",
      "source": [
        "train_dataset.info()"
      ],
      "metadata": {
        "colab": {
          "base_uri": "https://localhost:8080/"
        },
        "id": "utdHsxErTNzW",
        "outputId": "64fc5fd9-f1b9-472c-da7f-77ce7234a309"
      },
      "execution_count": 19,
      "outputs": [
        {
          "output_type": "stream",
          "name": "stdout",
          "text": [
            "<class 'pandas.core.frame.DataFrame'>\n",
            "RangeIndex: 1460 entries, 0 to 1459\n",
            "Columns: 283 entries, Id to SaleCondition_Partial\n",
            "dtypes: float64(3), int64(35), uint8(245)\n",
            "memory usage: 782.9 KB\n"
          ]
        }
      ]
    },
    {
      "cell_type": "code",
      "source": [
        "test_dataset.info()"
      ],
      "metadata": {
        "colab": {
          "base_uri": "https://localhost:8080/"
        },
        "id": "VL9DtHBWTN2F",
        "outputId": "b91da321-55a3-46f2-c94e-58e30c9f6fa6"
      },
      "execution_count": 20,
      "outputs": [
        {
          "output_type": "stream",
          "name": "stdout",
          "text": [
            "<class 'pandas.core.frame.DataFrame'>\n",
            "RangeIndex: 1459 entries, 0 to 1458\n",
            "Columns: 272 entries, Id to SaleCondition_Partial\n",
            "dtypes: float64(11), int64(26), uint8(235)\n",
            "memory usage: 756.7 KB\n"
          ]
        }
      ]
    },
    {
      "cell_type": "markdown",
      "source": [
        "# X_train,y_train, X_test"
      ],
      "metadata": {
        "id": "50z2UC3Z09v2"
      }
    },
    {
      "cell_type": "code",
      "source": [
        "X = train_dataset.drop(['Id', 'SalePrice'], axis = 1)\n",
        "y = train_dataset['SalePrice']\n",
        "X_test_pred = test_dataset.drop(['Id'], axis = 1)"
      ],
      "metadata": {
        "id": "IgjjPdZ58gcU"
      },
      "execution_count": 21,
      "outputs": []
    },
    {
      "cell_type": "code",
      "source": [
        "X, X_test_pred = X.align(X_test_pred, join='right', axis=1)"
      ],
      "metadata": {
        "id": "MtgxVry-8_0c"
      },
      "execution_count": 22,
      "outputs": []
    },
    {
      "cell_type": "code",
      "source": [
        "XTRAIN_impute = SimpleImputer(strategy = 'constant', fill_value = 0)\n",
        "missing = ['MSZoning_missing', 'Utilities_missing', 'Exterior1st_missing',\n",
        "       'Exterior2nd_missing', 'KitchenQual_missing', 'Functional_missing',\n",
        "       'SaleType_missing']\n",
        "# Get Mean for all features\n",
        "for i in missing:\n",
        "  XTRAIN_impute.fit(X[[i]])\n",
        "# Tranform Train\n",
        "  X[[i]] = XTRAIN_impute.transform(X[[i]])"
      ],
      "metadata": {
        "id": "zltIHFtA9bYO"
      },
      "execution_count": 23,
      "outputs": []
    },
    {
      "cell_type": "code",
      "source": [
        "from sklearn.model_selection import train_test_split\n",
        "X_train, X_test, y_train, y_test = train_test_split(X, y, test_size = 0.2, random_state = 0)"
      ],
      "metadata": {
        "id": "MDZypLW88HQt"
      },
      "execution_count": 24,
      "outputs": []
    },
    {
      "cell_type": "markdown",
      "source": [
        "check again for null values"
      ],
      "metadata": {
        "id": "_BEWi7Ic1YHc"
      }
    },
    {
      "cell_type": "code",
      "source": [
        "X_test_pred.columns[X_test.isnull().any()]"
      ],
      "metadata": {
        "colab": {
          "base_uri": "https://localhost:8080/"
        },
        "id": "u04lcOunZ82Y",
        "outputId": "a331db86-7d79-4e1b-add9-c1327cd7ffd2"
      },
      "execution_count": 25,
      "outputs": [
        {
          "output_type": "execute_result",
          "data": {
            "text/plain": [
              "Index([], dtype='object')"
            ]
          },
          "metadata": {},
          "execution_count": 25
        }
      ]
    },
    {
      "cell_type": "code",
      "source": [
        "X_train.columns[X_train.isnull().any()]"
      ],
      "metadata": {
        "colab": {
          "base_uri": "https://localhost:8080/"
        },
        "id": "u4lqN8o4cG_S",
        "outputId": "ace70a90-2047-42b9-e5d4-bfeb86b02cf6"
      },
      "execution_count": 26,
      "outputs": [
        {
          "output_type": "execute_result",
          "data": {
            "text/plain": [
              "Index([], dtype='object')"
            ]
          },
          "metadata": {},
          "execution_count": 26
        }
      ]
    },
    {
      "cell_type": "markdown",
      "source": [
        "we fill this missing values with 0s because we encoded this columns so 0 means none "
      ],
      "metadata": {
        "id": "DFh0FTIN1aI0"
      }
    },
    {
      "cell_type": "markdown",
      "source": [
        "Both X_train and X_test should have same columns"
      ],
      "metadata": {
        "id": "_jeOIh6T1rd2"
      }
    },
    {
      "cell_type": "code",
      "source": [
        "X_train.info()"
      ],
      "metadata": {
        "colab": {
          "base_uri": "https://localhost:8080/"
        },
        "id": "LKADtVDxZUaL",
        "outputId": "db5658e1-8eb3-4117-db97-d15ca27c0d4f"
      },
      "execution_count": 27,
      "outputs": [
        {
          "output_type": "stream",
          "name": "stdout",
          "text": [
            "<class 'pandas.core.frame.DataFrame'>\n",
            "Int64Index: 1168 entries, 618 to 684\n",
            "Columns: 271 entries, MSSubClass to SaleCondition_Partial\n",
            "dtypes: float64(10), int64(33), uint8(228)\n",
            "memory usage: 661.6 KB\n"
          ]
        }
      ]
    },
    {
      "cell_type": "code",
      "source": [
        "X_test.info()"
      ],
      "metadata": {
        "id": "Hv0gzntwZUMD",
        "colab": {
          "base_uri": "https://localhost:8080/"
        },
        "outputId": "77a9ad63-34d1-4b26-8410-ecfbe292e37e"
      },
      "execution_count": 28,
      "outputs": [
        {
          "output_type": "stream",
          "name": "stdout",
          "text": [
            "<class 'pandas.core.frame.DataFrame'>\n",
            "Int64Index: 292 entries, 529 to 61\n",
            "Columns: 271 entries, MSSubClass to SaleCondition_Partial\n",
            "dtypes: float64(10), int64(33), uint8(228)\n",
            "memory usage: 165.4 KB\n"
          ]
        }
      ]
    },
    {
      "cell_type": "code",
      "source": [
        "X_train.columns[X_train.isnull().any()]"
      ],
      "metadata": {
        "id": "6S6xstIra91G",
        "colab": {
          "base_uri": "https://localhost:8080/"
        },
        "outputId": "dd195a88-6c7a-4104-e56a-f36dc6ccd371"
      },
      "execution_count": 29,
      "outputs": [
        {
          "output_type": "execute_result",
          "data": {
            "text/plain": [
              "Index([], dtype='object')"
            ]
          },
          "metadata": {},
          "execution_count": 29
        }
      ]
    },
    {
      "cell_type": "markdown",
      "metadata": {
        "id": "k-McZVsQBINc"
      },
      "source": [
        "## Training the Multiple Linear Regression model on the Training set"
      ]
    },
    {
      "cell_type": "code",
      "source": [
        "!pip install catboost"
      ],
      "metadata": {
        "colab": {
          "base_uri": "https://localhost:8080/"
        },
        "id": "EgsqyASJ5gDV",
        "outputId": "fb446f37-4468-4ecb-d262-bd1157afeaeb"
      },
      "execution_count": 36,
      "outputs": [
        {
          "output_type": "stream",
          "name": "stdout",
          "text": [
            "Collecting catboost\n",
            "  Downloading catboost-1.0.5-cp37-none-manylinux1_x86_64.whl (76.6 MB)\n",
            "\u001b[K     |████████████████████████████████| 76.6 MB 1.2 MB/s \n",
            "\u001b[?25hRequirement already satisfied: pandas>=0.24.0 in /usr/local/lib/python3.7/dist-packages (from catboost) (1.3.5)\n",
            "Requirement already satisfied: plotly in /usr/local/lib/python3.7/dist-packages (from catboost) (5.5.0)\n",
            "Requirement already satisfied: numpy>=1.16.0 in /usr/local/lib/python3.7/dist-packages (from catboost) (1.21.5)\n",
            "Requirement already satisfied: graphviz in /usr/local/lib/python3.7/dist-packages (from catboost) (0.10.1)\n",
            "Requirement already satisfied: six in /usr/local/lib/python3.7/dist-packages (from catboost) (1.15.0)\n",
            "Requirement already satisfied: matplotlib in /usr/local/lib/python3.7/dist-packages (from catboost) (3.2.2)\n",
            "Requirement already satisfied: scipy in /usr/local/lib/python3.7/dist-packages (from catboost) (1.4.1)\n",
            "Requirement already satisfied: pytz>=2017.3 in /usr/local/lib/python3.7/dist-packages (from pandas>=0.24.0->catboost) (2018.9)\n",
            "Requirement already satisfied: python-dateutil>=2.7.3 in /usr/local/lib/python3.7/dist-packages (from pandas>=0.24.0->catboost) (2.8.2)\n",
            "Requirement already satisfied: cycler>=0.10 in /usr/local/lib/python3.7/dist-packages (from matplotlib->catboost) (0.11.0)\n",
            "Requirement already satisfied: pyparsing!=2.0.4,!=2.1.2,!=2.1.6,>=2.0.1 in /usr/local/lib/python3.7/dist-packages (from matplotlib->catboost) (3.0.7)\n",
            "Requirement already satisfied: kiwisolver>=1.0.1 in /usr/local/lib/python3.7/dist-packages (from matplotlib->catboost) (1.4.0)\n",
            "Requirement already satisfied: typing-extensions in /usr/local/lib/python3.7/dist-packages (from kiwisolver>=1.0.1->matplotlib->catboost) (3.10.0.2)\n",
            "Requirement already satisfied: tenacity>=6.2.0 in /usr/local/lib/python3.7/dist-packages (from plotly->catboost) (8.0.1)\n",
            "Installing collected packages: catboost\n",
            "Successfully installed catboost-1.0.5\n"
          ]
        }
      ]
    },
    {
      "cell_type": "code",
      "metadata": {
        "id": "ywPjx0L1BMiD",
        "colab": {
          "base_uri": "https://localhost:8080/"
        },
        "outputId": "b7901d9f-2e06-44ff-ad74-772909ca0d09"
      },
      "source": [
        "from catboost import CatBoostRegressor\n",
        "regressor = CatBoostRegressor()\n",
        "regressor.fit(X_train,y_train)"
      ],
      "execution_count": 37,
      "outputs": [
        {
          "output_type": "stream",
          "name": "stdout",
          "text": [
            "Learning rate set to 0.04196\n",
            "0:\tlearn: 76651.1991765\ttotal: 70.6ms\tremaining: 1m 10s\n",
            "1:\tlearn: 74497.6308046\ttotal: 80.9ms\tremaining: 40.4s\n",
            "2:\tlearn: 72553.4406477\ttotal: 98.1ms\tremaining: 32.6s\n",
            "3:\tlearn: 70676.7552097\ttotal: 117ms\tremaining: 29.2s\n",
            "4:\tlearn: 69167.5601381\ttotal: 127ms\tremaining: 25.3s\n",
            "5:\tlearn: 67452.9820391\ttotal: 134ms\tremaining: 22.3s\n",
            "6:\tlearn: 65924.5290063\ttotal: 140ms\tremaining: 19.9s\n",
            "7:\tlearn: 64364.6019119\ttotal: 147ms\tremaining: 18.3s\n",
            "8:\tlearn: 62829.1441035\ttotal: 155ms\tremaining: 17.1s\n",
            "9:\tlearn: 61313.4414466\ttotal: 161ms\tremaining: 15.9s\n",
            "10:\tlearn: 59972.6944542\ttotal: 168ms\tremaining: 15.1s\n",
            "11:\tlearn: 58558.8017804\ttotal: 176ms\tremaining: 14.5s\n",
            "12:\tlearn: 57219.0323221\ttotal: 185ms\tremaining: 14s\n",
            "13:\tlearn: 55945.0131704\ttotal: 219ms\tremaining: 15.4s\n",
            "14:\tlearn: 54736.8123375\ttotal: 235ms\tremaining: 15.4s\n",
            "15:\tlearn: 53475.4213551\ttotal: 245ms\tremaining: 15.1s\n",
            "16:\tlearn: 52265.8925793\ttotal: 251ms\tremaining: 14.5s\n",
            "17:\tlearn: 51066.0373743\ttotal: 259ms\tremaining: 14.1s\n",
            "18:\tlearn: 50075.1259074\ttotal: 266ms\tremaining: 13.8s\n",
            "19:\tlearn: 49030.1815455\ttotal: 273ms\tremaining: 13.4s\n",
            "20:\tlearn: 48020.4753916\ttotal: 279ms\tremaining: 13s\n",
            "21:\tlearn: 47120.0101081\ttotal: 286ms\tremaining: 12.7s\n",
            "22:\tlearn: 46108.5376351\ttotal: 294ms\tremaining: 12.5s\n",
            "23:\tlearn: 45240.4237077\ttotal: 300ms\tremaining: 12.2s\n",
            "24:\tlearn: 44381.1910541\ttotal: 310ms\tremaining: 12.1s\n",
            "25:\tlearn: 43552.2415814\ttotal: 340ms\tremaining: 12.7s\n",
            "26:\tlearn: 42725.1552612\ttotal: 353ms\tremaining: 12.7s\n",
            "27:\tlearn: 42044.8819064\ttotal: 368ms\tremaining: 12.8s\n",
            "28:\tlearn: 41251.8361576\ttotal: 395ms\tremaining: 13.2s\n",
            "29:\tlearn: 40568.3588718\ttotal: 409ms\tremaining: 13.2s\n",
            "30:\tlearn: 39868.2045806\ttotal: 423ms\tremaining: 13.2s\n",
            "31:\tlearn: 39235.3737890\ttotal: 437ms\tremaining: 13.2s\n",
            "32:\tlearn: 38644.8917473\ttotal: 452ms\tremaining: 13.2s\n",
            "33:\tlearn: 38058.5891122\ttotal: 470ms\tremaining: 13.4s\n",
            "34:\tlearn: 37526.1374386\ttotal: 478ms\tremaining: 13.2s\n",
            "35:\tlearn: 36981.5597610\ttotal: 485ms\tremaining: 13s\n",
            "36:\tlearn: 36489.4515264\ttotal: 491ms\tremaining: 12.8s\n",
            "37:\tlearn: 35979.7137020\ttotal: 498ms\tremaining: 12.6s\n",
            "38:\tlearn: 35498.1755244\ttotal: 512ms\tremaining: 12.6s\n",
            "39:\tlearn: 35118.9523937\ttotal: 524ms\tremaining: 12.6s\n",
            "40:\tlearn: 34666.9469960\ttotal: 547ms\tremaining: 12.8s\n",
            "41:\tlearn: 34137.2613703\ttotal: 555ms\tremaining: 12.6s\n",
            "42:\tlearn: 33663.3146654\ttotal: 569ms\tremaining: 12.7s\n",
            "43:\tlearn: 33220.3127335\ttotal: 582ms\tremaining: 12.6s\n",
            "44:\tlearn: 32843.1135431\ttotal: 598ms\tremaining: 12.7s\n",
            "45:\tlearn: 32450.3577475\ttotal: 607ms\tremaining: 12.6s\n",
            "46:\tlearn: 32107.8990960\ttotal: 614ms\tremaining: 12.4s\n",
            "47:\tlearn: 31677.1663398\ttotal: 622ms\tremaining: 12.3s\n",
            "48:\tlearn: 31331.8460760\ttotal: 628ms\tremaining: 12.2s\n",
            "49:\tlearn: 30969.9381282\ttotal: 669ms\tremaining: 12.7s\n",
            "50:\tlearn: 30675.3875713\ttotal: 677ms\tremaining: 12.6s\n",
            "51:\tlearn: 30336.5073258\ttotal: 700ms\tremaining: 12.8s\n",
            "52:\tlearn: 30045.2523572\ttotal: 718ms\tremaining: 12.8s\n",
            "53:\tlearn: 29781.1903742\ttotal: 726ms\tremaining: 12.7s\n",
            "54:\tlearn: 29517.9367764\ttotal: 734ms\tremaining: 12.6s\n",
            "55:\tlearn: 29227.7057594\ttotal: 749ms\tremaining: 12.6s\n",
            "56:\tlearn: 28928.2409991\ttotal: 760ms\tremaining: 12.6s\n",
            "57:\tlearn: 28671.2995007\ttotal: 795ms\tremaining: 12.9s\n",
            "58:\tlearn: 28441.3222695\ttotal: 827ms\tremaining: 13.2s\n",
            "59:\tlearn: 28130.1142006\ttotal: 856ms\tremaining: 13.4s\n",
            "60:\tlearn: 27876.6805541\ttotal: 871ms\tremaining: 13.4s\n",
            "61:\tlearn: 27575.9932949\ttotal: 889ms\tremaining: 13.5s\n",
            "62:\tlearn: 27393.3835483\ttotal: 901ms\tremaining: 13.4s\n",
            "63:\tlearn: 27166.8430711\ttotal: 918ms\tremaining: 13.4s\n",
            "64:\tlearn: 26913.1689062\ttotal: 933ms\tremaining: 13.4s\n",
            "65:\tlearn: 26678.6939394\ttotal: 949ms\tremaining: 13.4s\n",
            "66:\tlearn: 26425.9433570\ttotal: 956ms\tremaining: 13.3s\n",
            "67:\tlearn: 26217.6051590\ttotal: 963ms\tremaining: 13.2s\n",
            "68:\tlearn: 26018.4758609\ttotal: 985ms\tremaining: 13.3s\n",
            "69:\tlearn: 25835.0765123\ttotal: 1s\tremaining: 13.3s\n",
            "70:\tlearn: 25670.2371591\ttotal: 1.02s\tremaining: 13.3s\n",
            "71:\tlearn: 25487.4702667\ttotal: 1.04s\tremaining: 13.4s\n",
            "72:\tlearn: 25341.3644692\ttotal: 1.06s\tremaining: 13.5s\n",
            "73:\tlearn: 25192.7557181\ttotal: 1.07s\tremaining: 13.5s\n",
            "74:\tlearn: 24980.1018666\ttotal: 1.09s\tremaining: 13.5s\n",
            "75:\tlearn: 24823.6755832\ttotal: 1.11s\tremaining: 13.5s\n",
            "76:\tlearn: 24642.9133285\ttotal: 1.12s\tremaining: 13.5s\n",
            "77:\tlearn: 24487.7507771\ttotal: 1.14s\tremaining: 13.5s\n",
            "78:\tlearn: 24312.8585442\ttotal: 1.15s\tremaining: 13.4s\n",
            "79:\tlearn: 24140.5453137\ttotal: 1.17s\tremaining: 13.5s\n",
            "80:\tlearn: 23987.0491499\ttotal: 1.2s\tremaining: 13.6s\n",
            "81:\tlearn: 23842.0380898\ttotal: 1.21s\tremaining: 13.6s\n",
            "82:\tlearn: 23689.1604687\ttotal: 1.22s\tremaining: 13.5s\n",
            "83:\tlearn: 23527.1500424\ttotal: 1.23s\tremaining: 13.4s\n",
            "84:\tlearn: 23384.5759836\ttotal: 1.23s\tremaining: 13.3s\n",
            "85:\tlearn: 23292.4748120\ttotal: 1.25s\tremaining: 13.3s\n",
            "86:\tlearn: 23188.6353418\ttotal: 1.26s\tremaining: 13.2s\n",
            "87:\tlearn: 23072.9627339\ttotal: 1.27s\tremaining: 13.1s\n",
            "88:\tlearn: 22940.9680745\ttotal: 1.28s\tremaining: 13.2s\n",
            "89:\tlearn: 22788.7224140\ttotal: 1.3s\tremaining: 13.1s\n",
            "90:\tlearn: 22671.1568402\ttotal: 1.32s\tremaining: 13.1s\n",
            "91:\tlearn: 22554.3127847\ttotal: 1.33s\tremaining: 13.2s\n",
            "92:\tlearn: 22422.9793877\ttotal: 1.35s\tremaining: 13.2s\n",
            "93:\tlearn: 22301.3978389\ttotal: 1.37s\tremaining: 13.2s\n",
            "94:\tlearn: 22205.1675465\ttotal: 1.39s\tremaining: 13.2s\n",
            "95:\tlearn: 22102.2199952\ttotal: 1.4s\tremaining: 13.2s\n",
            "96:\tlearn: 22017.7105806\ttotal: 1.42s\tremaining: 13.2s\n",
            "97:\tlearn: 21920.7646910\ttotal: 1.43s\tremaining: 13.2s\n",
            "98:\tlearn: 21795.0922220\ttotal: 1.45s\tremaining: 13.2s\n",
            "99:\tlearn: 21680.5718960\ttotal: 1.47s\tremaining: 13.2s\n",
            "100:\tlearn: 21564.4516548\ttotal: 1.49s\tremaining: 13.3s\n",
            "101:\tlearn: 21489.3971938\ttotal: 1.51s\tremaining: 13.3s\n",
            "102:\tlearn: 21388.7870376\ttotal: 1.52s\tremaining: 13.3s\n",
            "103:\tlearn: 21334.6301636\ttotal: 1.54s\tremaining: 13.3s\n",
            "104:\tlearn: 21230.8087747\ttotal: 1.56s\tremaining: 13.3s\n",
            "105:\tlearn: 21205.6994179\ttotal: 1.57s\tremaining: 13.3s\n",
            "106:\tlearn: 21146.2695358\ttotal: 1.59s\tremaining: 13.3s\n",
            "107:\tlearn: 21064.6605966\ttotal: 1.61s\tremaining: 13.3s\n",
            "108:\tlearn: 20984.4700150\ttotal: 1.63s\tremaining: 13.3s\n",
            "109:\tlearn: 20951.4032831\ttotal: 1.64s\tremaining: 13.3s\n",
            "110:\tlearn: 20865.5887504\ttotal: 1.66s\tremaining: 13.3s\n",
            "111:\tlearn: 20775.6949391\ttotal: 1.68s\tremaining: 13.4s\n",
            "112:\tlearn: 20708.9181098\ttotal: 1.69s\tremaining: 13.3s\n",
            "113:\tlearn: 20628.0981712\ttotal: 1.7s\tremaining: 13.2s\n",
            "114:\tlearn: 20610.2120162\ttotal: 1.71s\tremaining: 13.1s\n",
            "115:\tlearn: 20544.4817632\ttotal: 1.71s\tremaining: 13.1s\n",
            "116:\tlearn: 20469.7105157\ttotal: 1.73s\tremaining: 13.1s\n",
            "117:\tlearn: 20391.1082081\ttotal: 1.74s\tremaining: 13s\n",
            "118:\tlearn: 20375.1506109\ttotal: 1.74s\tremaining: 12.9s\n",
            "119:\tlearn: 20303.1502268\ttotal: 1.75s\tremaining: 12.8s\n",
            "120:\tlearn: 20232.4219361\ttotal: 1.76s\tremaining: 12.8s\n",
            "121:\tlearn: 20127.6084177\ttotal: 1.77s\tremaining: 12.7s\n",
            "122:\tlearn: 20053.9573700\ttotal: 1.79s\tremaining: 12.8s\n",
            "123:\tlearn: 19981.7762846\ttotal: 1.8s\tremaining: 12.7s\n",
            "124:\tlearn: 19903.3437604\ttotal: 1.82s\tremaining: 12.7s\n",
            "125:\tlearn: 19850.0916754\ttotal: 1.82s\tremaining: 12.6s\n",
            "126:\tlearn: 19777.9663469\ttotal: 1.83s\tremaining: 12.6s\n",
            "127:\tlearn: 19737.9966811\ttotal: 1.84s\tremaining: 12.5s\n",
            "128:\tlearn: 19699.7245991\ttotal: 1.84s\tremaining: 12.5s\n",
            "129:\tlearn: 19659.0339965\ttotal: 1.85s\tremaining: 12.4s\n",
            "130:\tlearn: 19579.6747903\ttotal: 1.86s\tremaining: 12.3s\n",
            "131:\tlearn: 19508.6704137\ttotal: 1.87s\tremaining: 12.3s\n",
            "132:\tlearn: 19424.5562858\ttotal: 1.89s\tremaining: 12.3s\n",
            "133:\tlearn: 19351.0554955\ttotal: 1.89s\tremaining: 12.2s\n",
            "134:\tlearn: 19282.4592793\ttotal: 1.91s\tremaining: 12.2s\n",
            "135:\tlearn: 19235.5159964\ttotal: 1.92s\tremaining: 12.2s\n",
            "136:\tlearn: 19187.7798409\ttotal: 1.93s\tremaining: 12.2s\n",
            "137:\tlearn: 19127.7360227\ttotal: 1.94s\tremaining: 12.1s\n",
            "138:\tlearn: 19085.1257715\ttotal: 1.95s\tremaining: 12.1s\n",
            "139:\tlearn: 19024.3228232\ttotal: 1.95s\tremaining: 12s\n",
            "140:\tlearn: 18949.2480997\ttotal: 1.96s\tremaining: 11.9s\n",
            "141:\tlearn: 18890.9748896\ttotal: 1.97s\tremaining: 11.9s\n",
            "142:\tlearn: 18836.0926813\ttotal: 1.99s\tremaining: 11.9s\n",
            "143:\tlearn: 18785.4595496\ttotal: 2s\tremaining: 11.9s\n",
            "144:\tlearn: 18719.1085037\ttotal: 2.01s\tremaining: 11.8s\n",
            "145:\tlearn: 18660.6873020\ttotal: 2.03s\tremaining: 11.9s\n",
            "146:\tlearn: 18615.9125704\ttotal: 2.04s\tremaining: 11.8s\n",
            "147:\tlearn: 18577.5946675\ttotal: 2.05s\tremaining: 11.8s\n",
            "148:\tlearn: 18525.0121514\ttotal: 2.05s\tremaining: 11.7s\n",
            "149:\tlearn: 18494.2160876\ttotal: 2.06s\tremaining: 11.7s\n",
            "150:\tlearn: 18449.3271910\ttotal: 2.07s\tremaining: 11.6s\n",
            "151:\tlearn: 18385.1490903\ttotal: 2.08s\tremaining: 11.6s\n",
            "152:\tlearn: 18337.5939045\ttotal: 2.11s\tremaining: 11.7s\n",
            "153:\tlearn: 18270.6881129\ttotal: 2.13s\tremaining: 11.7s\n",
            "154:\tlearn: 18211.6754814\ttotal: 2.14s\tremaining: 11.7s\n",
            "155:\tlearn: 18166.8507308\ttotal: 2.16s\tremaining: 11.7s\n",
            "156:\tlearn: 18137.5196283\ttotal: 2.18s\tremaining: 11.7s\n",
            "157:\tlearn: 18095.4879991\ttotal: 2.21s\tremaining: 11.8s\n",
            "158:\tlearn: 18042.2991084\ttotal: 2.22s\tremaining: 11.7s\n",
            "159:\tlearn: 17977.1528036\ttotal: 2.23s\tremaining: 11.7s\n",
            "160:\tlearn: 17931.6052475\ttotal: 2.25s\tremaining: 11.7s\n",
            "161:\tlearn: 17879.5713224\ttotal: 2.27s\tremaining: 11.7s\n",
            "162:\tlearn: 17844.4921394\ttotal: 2.29s\tremaining: 11.8s\n",
            "163:\tlearn: 17808.6869167\ttotal: 2.31s\tremaining: 11.8s\n",
            "164:\tlearn: 17748.9709113\ttotal: 2.33s\tremaining: 11.8s\n",
            "165:\tlearn: 17720.0269516\ttotal: 2.34s\tremaining: 11.8s\n",
            "166:\tlearn: 17668.7871633\ttotal: 2.35s\tremaining: 11.7s\n",
            "167:\tlearn: 17621.3813957\ttotal: 2.36s\tremaining: 11.7s\n",
            "168:\tlearn: 17572.9052398\ttotal: 2.37s\tremaining: 11.6s\n",
            "169:\tlearn: 17535.7551265\ttotal: 2.37s\tremaining: 11.6s\n",
            "170:\tlearn: 17479.0879795\ttotal: 2.39s\tremaining: 11.6s\n",
            "171:\tlearn: 17420.3992256\ttotal: 2.41s\tremaining: 11.6s\n",
            "172:\tlearn: 17403.2141464\ttotal: 2.42s\tremaining: 11.6s\n",
            "173:\tlearn: 17369.8771549\ttotal: 2.43s\tremaining: 11.5s\n",
            "174:\tlearn: 17340.9007949\ttotal: 2.44s\tremaining: 11.5s\n",
            "175:\tlearn: 17301.3329138\ttotal: 2.47s\tremaining: 11.6s\n",
            "176:\tlearn: 17280.9517533\ttotal: 2.48s\tremaining: 11.5s\n",
            "177:\tlearn: 17225.3293800\ttotal: 2.49s\tremaining: 11.5s\n",
            "178:\tlearn: 17174.8200057\ttotal: 2.51s\tremaining: 11.5s\n",
            "179:\tlearn: 17137.0289978\ttotal: 2.52s\tremaining: 11.5s\n",
            "180:\tlearn: 17099.0919404\ttotal: 2.53s\tremaining: 11.5s\n",
            "181:\tlearn: 17065.7801182\ttotal: 2.55s\tremaining: 11.5s\n",
            "182:\tlearn: 17039.9122476\ttotal: 2.57s\tremaining: 11.5s\n",
            "183:\tlearn: 16993.2001321\ttotal: 2.58s\tremaining: 11.4s\n",
            "184:\tlearn: 16963.3465585\ttotal: 2.62s\tremaining: 11.5s\n",
            "185:\tlearn: 16947.7025355\ttotal: 2.64s\tremaining: 11.6s\n",
            "186:\tlearn: 16895.0918276\ttotal: 2.66s\tremaining: 11.6s\n",
            "187:\tlearn: 16883.4384748\ttotal: 2.66s\tremaining: 11.5s\n",
            "188:\tlearn: 16868.3348082\ttotal: 2.68s\tremaining: 11.5s\n",
            "189:\tlearn: 16811.3945061\ttotal: 2.7s\tremaining: 11.5s\n",
            "190:\tlearn: 16792.1407733\ttotal: 2.7s\tremaining: 11.5s\n",
            "191:\tlearn: 16772.6084211\ttotal: 2.71s\tremaining: 11.4s\n",
            "192:\tlearn: 16739.4007508\ttotal: 2.73s\tremaining: 11.4s\n",
            "193:\tlearn: 16683.0881105\ttotal: 2.75s\tremaining: 11.4s\n",
            "194:\tlearn: 16643.9261913\ttotal: 2.76s\tremaining: 11.4s\n",
            "195:\tlearn: 16633.8788896\ttotal: 2.77s\tremaining: 11.3s\n",
            "196:\tlearn: 16621.1210572\ttotal: 2.78s\tremaining: 11.3s\n",
            "197:\tlearn: 16608.0856659\ttotal: 2.79s\tremaining: 11.3s\n",
            "198:\tlearn: 16598.5084715\ttotal: 2.8s\tremaining: 11.3s\n",
            "199:\tlearn: 16562.2742893\ttotal: 2.82s\tremaining: 11.3s\n",
            "200:\tlearn: 16545.5124794\ttotal: 2.83s\tremaining: 11.3s\n",
            "201:\tlearn: 16501.9292556\ttotal: 2.85s\tremaining: 11.3s\n",
            "202:\tlearn: 16480.4113195\ttotal: 2.87s\tremaining: 11.3s\n",
            "203:\tlearn: 16440.7340783\ttotal: 2.88s\tremaining: 11.2s\n",
            "204:\tlearn: 16408.9139939\ttotal: 2.9s\tremaining: 11.2s\n",
            "205:\tlearn: 16362.3409021\ttotal: 2.91s\tremaining: 11.2s\n",
            "206:\tlearn: 16351.6744984\ttotal: 2.92s\tremaining: 11.2s\n",
            "207:\tlearn: 16338.4130128\ttotal: 2.93s\tremaining: 11.1s\n",
            "208:\tlearn: 16323.7925490\ttotal: 2.93s\tremaining: 11.1s\n",
            "209:\tlearn: 16285.5927768\ttotal: 2.94s\tremaining: 11.1s\n",
            "210:\tlearn: 16266.7488941\ttotal: 2.94s\tremaining: 11s\n",
            "211:\tlearn: 16212.2630450\ttotal: 2.95s\tremaining: 11s\n",
            "212:\tlearn: 16175.2259503\ttotal: 2.96s\tremaining: 10.9s\n",
            "213:\tlearn: 16137.2377203\ttotal: 2.97s\tremaining: 10.9s\n",
            "214:\tlearn: 16119.5417547\ttotal: 2.98s\tremaining: 10.9s\n",
            "215:\tlearn: 16104.8646339\ttotal: 2.99s\tremaining: 10.9s\n",
            "216:\tlearn: 16074.5070687\ttotal: 3s\tremaining: 10.8s\n",
            "217:\tlearn: 16054.0017311\ttotal: 3.02s\tremaining: 10.8s\n",
            "218:\tlearn: 16043.3958321\ttotal: 3.03s\tremaining: 10.8s\n",
            "219:\tlearn: 15993.5590822\ttotal: 3.05s\tremaining: 10.8s\n",
            "220:\tlearn: 15945.5262638\ttotal: 3.07s\tremaining: 10.8s\n",
            "221:\tlearn: 15902.8343382\ttotal: 3.08s\tremaining: 10.8s\n",
            "222:\tlearn: 15877.4450593\ttotal: 3.12s\tremaining: 10.9s\n",
            "223:\tlearn: 15837.3591365\ttotal: 3.13s\tremaining: 10.9s\n",
            "224:\tlearn: 15804.3700083\ttotal: 3.15s\tremaining: 10.8s\n",
            "225:\tlearn: 15794.6834482\ttotal: 3.15s\tremaining: 10.8s\n",
            "226:\tlearn: 15752.0480711\ttotal: 3.16s\tremaining: 10.8s\n",
            "227:\tlearn: 15710.1133754\ttotal: 3.17s\tremaining: 10.7s\n",
            "228:\tlearn: 15700.7621021\ttotal: 3.17s\tremaining: 10.7s\n",
            "229:\tlearn: 15663.5219470\ttotal: 3.18s\tremaining: 10.6s\n",
            "230:\tlearn: 15626.0874172\ttotal: 3.19s\tremaining: 10.6s\n",
            "231:\tlearn: 15617.5429001\ttotal: 3.2s\tremaining: 10.6s\n",
            "232:\tlearn: 15574.3421007\ttotal: 3.21s\tremaining: 10.6s\n",
            "233:\tlearn: 15564.5500707\ttotal: 3.23s\tremaining: 10.6s\n",
            "234:\tlearn: 15556.4574526\ttotal: 3.27s\tremaining: 10.6s\n",
            "235:\tlearn: 15550.8689928\ttotal: 3.27s\tremaining: 10.6s\n",
            "236:\tlearn: 15507.4822676\ttotal: 3.28s\tremaining: 10.6s\n",
            "237:\tlearn: 15474.2398347\ttotal: 3.29s\tremaining: 10.5s\n",
            "238:\tlearn: 15451.8987492\ttotal: 3.29s\tremaining: 10.5s\n",
            "239:\tlearn: 15444.3305221\ttotal: 3.3s\tremaining: 10.5s\n",
            "240:\tlearn: 15404.9848375\ttotal: 3.31s\tremaining: 10.4s\n",
            "241:\tlearn: 15366.9817975\ttotal: 3.32s\tremaining: 10.4s\n",
            "242:\tlearn: 15352.2709866\ttotal: 3.33s\tremaining: 10.4s\n",
            "243:\tlearn: 15317.1849728\ttotal: 3.33s\tremaining: 10.3s\n",
            "244:\tlearn: 15307.4350184\ttotal: 3.34s\tremaining: 10.3s\n",
            "245:\tlearn: 15264.4840070\ttotal: 3.34s\tremaining: 10.3s\n",
            "246:\tlearn: 15222.4385386\ttotal: 3.36s\tremaining: 10.2s\n",
            "247:\tlearn: 15185.4889326\ttotal: 3.37s\tremaining: 10.2s\n",
            "248:\tlearn: 15164.6441922\ttotal: 3.38s\tremaining: 10.2s\n",
            "249:\tlearn: 15125.2579485\ttotal: 3.38s\tremaining: 10.2s\n",
            "250:\tlearn: 15111.0152781\ttotal: 3.39s\tremaining: 10.1s\n",
            "251:\tlearn: 15083.2662720\ttotal: 3.41s\tremaining: 10.1s\n",
            "252:\tlearn: 15049.5579503\ttotal: 3.41s\tremaining: 10.1s\n",
            "253:\tlearn: 15042.5400522\ttotal: 3.42s\tremaining: 10s\n",
            "254:\tlearn: 15003.6468408\ttotal: 3.43s\tremaining: 10s\n",
            "255:\tlearn: 14957.7217164\ttotal: 3.44s\tremaining: 9.98s\n",
            "256:\tlearn: 14933.6607160\ttotal: 3.44s\tremaining: 9.96s\n",
            "257:\tlearn: 14898.5722130\ttotal: 3.45s\tremaining: 9.93s\n",
            "258:\tlearn: 14870.0084362\ttotal: 3.46s\tremaining: 9.9s\n",
            "259:\tlearn: 14820.9902331\ttotal: 3.47s\tremaining: 9.87s\n",
            "260:\tlearn: 14804.2547695\ttotal: 3.48s\tremaining: 9.84s\n",
            "261:\tlearn: 14781.3766602\ttotal: 3.48s\tremaining: 9.81s\n",
            "262:\tlearn: 14768.7628958\ttotal: 3.49s\tremaining: 9.77s\n",
            "263:\tlearn: 14750.3464248\ttotal: 3.49s\tremaining: 9.74s\n",
            "264:\tlearn: 14717.5166302\ttotal: 3.5s\tremaining: 9.72s\n",
            "265:\tlearn: 14688.2769426\ttotal: 3.52s\tremaining: 9.71s\n",
            "266:\tlearn: 14673.3547359\ttotal: 3.54s\tremaining: 9.71s\n",
            "267:\tlearn: 14634.4156024\ttotal: 3.54s\tremaining: 9.68s\n",
            "268:\tlearn: 14606.8089103\ttotal: 3.55s\tremaining: 9.65s\n",
            "269:\tlearn: 14566.7547491\ttotal: 3.56s\tremaining: 9.62s\n",
            "270:\tlearn: 14537.6341808\ttotal: 3.56s\tremaining: 9.59s\n",
            "271:\tlearn: 14504.5797829\ttotal: 3.6s\tremaining: 9.64s\n",
            "272:\tlearn: 14469.1411225\ttotal: 3.62s\tremaining: 9.63s\n",
            "273:\tlearn: 14451.4646672\ttotal: 3.64s\tremaining: 9.65s\n",
            "274:\tlearn: 14417.9450365\ttotal: 3.67s\tremaining: 9.69s\n",
            "275:\tlearn: 14403.3943409\ttotal: 3.69s\tremaining: 9.69s\n",
            "276:\tlearn: 14374.3904544\ttotal: 3.71s\tremaining: 9.69s\n",
            "277:\tlearn: 14351.5959413\ttotal: 3.74s\tremaining: 9.71s\n",
            "278:\tlearn: 14326.4038728\ttotal: 3.75s\tremaining: 9.7s\n",
            "279:\tlearn: 14294.0090183\ttotal: 3.77s\tremaining: 9.7s\n",
            "280:\tlearn: 14263.3676031\ttotal: 3.79s\tremaining: 9.7s\n",
            "281:\tlearn: 14235.3607646\ttotal: 3.81s\tremaining: 9.71s\n",
            "282:\tlearn: 14208.4722420\ttotal: 3.83s\tremaining: 9.71s\n",
            "283:\tlearn: 14180.8269927\ttotal: 3.85s\tremaining: 9.71s\n",
            "284:\tlearn: 14147.0813021\ttotal: 3.87s\tremaining: 9.71s\n",
            "285:\tlearn: 14123.3275721\ttotal: 3.88s\tremaining: 9.7s\n",
            "286:\tlearn: 14102.0425516\ttotal: 3.9s\tremaining: 9.68s\n",
            "287:\tlearn: 14065.4013721\ttotal: 3.91s\tremaining: 9.67s\n",
            "288:\tlearn: 14047.4067775\ttotal: 3.93s\tremaining: 9.67s\n",
            "289:\tlearn: 14017.4375924\ttotal: 3.95s\tremaining: 9.66s\n",
            "290:\tlearn: 13998.2528105\ttotal: 3.97s\tremaining: 9.67s\n",
            "291:\tlearn: 13978.4705837\ttotal: 3.97s\tremaining: 9.63s\n",
            "292:\tlearn: 13973.4556877\ttotal: 3.98s\tremaining: 9.6s\n",
            "293:\tlearn: 13967.7706095\ttotal: 3.98s\tremaining: 9.57s\n",
            "294:\tlearn: 13944.2671737\ttotal: 3.99s\tremaining: 9.54s\n",
            "295:\tlearn: 13915.9089452\ttotal: 4s\tremaining: 9.52s\n",
            "296:\tlearn: 13907.4978983\ttotal: 4.01s\tremaining: 9.48s\n",
            "297:\tlearn: 13880.2656304\ttotal: 4.01s\tremaining: 9.45s\n",
            "298:\tlearn: 13852.3618875\ttotal: 4.02s\tremaining: 9.43s\n",
            "299:\tlearn: 13848.5507390\ttotal: 4.03s\tremaining: 9.39s\n",
            "300:\tlearn: 13844.0838235\ttotal: 4.03s\tremaining: 9.36s\n",
            "301:\tlearn: 13827.1032086\ttotal: 4.04s\tremaining: 9.33s\n",
            "302:\tlearn: 13803.8442999\ttotal: 4.04s\tremaining: 9.3s\n",
            "303:\tlearn: 13779.4251964\ttotal: 4.05s\tremaining: 9.27s\n",
            "304:\tlearn: 13743.2574869\ttotal: 4.05s\tremaining: 9.24s\n",
            "305:\tlearn: 13713.7463909\ttotal: 4.06s\tremaining: 9.21s\n",
            "306:\tlearn: 13684.0457723\ttotal: 4.06s\tremaining: 9.17s\n",
            "307:\tlearn: 13658.0884753\ttotal: 4.07s\tremaining: 9.14s\n",
            "308:\tlearn: 13629.2348154\ttotal: 4.08s\tremaining: 9.11s\n",
            "309:\tlearn: 13613.1686436\ttotal: 4.08s\tremaining: 9.08s\n",
            "310:\tlearn: 13589.9757508\ttotal: 4.08s\tremaining: 9.05s\n",
            "311:\tlearn: 13569.0677707\ttotal: 4.09s\tremaining: 9.02s\n",
            "312:\tlearn: 13564.9207316\ttotal: 4.1s\tremaining: 8.99s\n",
            "313:\tlearn: 13524.8611478\ttotal: 4.1s\tremaining: 8.96s\n",
            "314:\tlearn: 13521.3512936\ttotal: 4.11s\tremaining: 8.93s\n",
            "315:\tlearn: 13494.9820526\ttotal: 4.11s\tremaining: 8.9s\n",
            "316:\tlearn: 13468.7073176\ttotal: 4.12s\tremaining: 8.87s\n",
            "317:\tlearn: 13440.1887942\ttotal: 4.12s\tremaining: 8.84s\n",
            "318:\tlearn: 13427.5792821\ttotal: 4.13s\tremaining: 8.81s\n",
            "319:\tlearn: 13406.2551998\ttotal: 4.13s\tremaining: 8.78s\n",
            "320:\tlearn: 13389.5388129\ttotal: 4.14s\tremaining: 8.76s\n",
            "321:\tlearn: 13354.9143698\ttotal: 4.14s\tremaining: 8.73s\n",
            "322:\tlearn: 13325.2020336\ttotal: 4.15s\tremaining: 8.7s\n",
            "323:\tlearn: 13292.5869544\ttotal: 4.16s\tremaining: 8.67s\n",
            "324:\tlearn: 13270.6627742\ttotal: 4.16s\tremaining: 8.64s\n",
            "325:\tlearn: 13252.6398091\ttotal: 4.17s\tremaining: 8.61s\n",
            "326:\tlearn: 13227.3971659\ttotal: 4.17s\tremaining: 8.59s\n",
            "327:\tlearn: 13224.1316399\ttotal: 4.18s\tremaining: 8.56s\n",
            "328:\tlearn: 13215.6260794\ttotal: 4.18s\tremaining: 8.53s\n",
            "329:\tlearn: 13185.7448784\ttotal: 4.19s\tremaining: 8.5s\n",
            "330:\tlearn: 13162.2482352\ttotal: 4.19s\tremaining: 8.47s\n",
            "331:\tlearn: 13135.4881026\ttotal: 4.2s\tremaining: 8.45s\n",
            "332:\tlearn: 13108.2668830\ttotal: 4.21s\tremaining: 8.42s\n",
            "333:\tlearn: 13089.6074460\ttotal: 4.21s\tremaining: 8.4s\n",
            "334:\tlearn: 13085.6090675\ttotal: 4.22s\tremaining: 8.38s\n",
            "335:\tlearn: 13056.4505927\ttotal: 4.23s\tremaining: 8.36s\n",
            "336:\tlearn: 13041.7512016\ttotal: 4.24s\tremaining: 8.34s\n",
            "337:\tlearn: 13020.9908303\ttotal: 4.24s\tremaining: 8.31s\n",
            "338:\tlearn: 13002.6746783\ttotal: 4.25s\tremaining: 8.29s\n",
            "339:\tlearn: 12987.6612758\ttotal: 4.25s\tremaining: 8.26s\n",
            "340:\tlearn: 12966.7022828\ttotal: 4.26s\tremaining: 8.23s\n",
            "341:\tlearn: 12962.3456977\ttotal: 4.26s\tremaining: 8.21s\n",
            "342:\tlearn: 12949.9250313\ttotal: 4.27s\tremaining: 8.18s\n",
            "343:\tlearn: 12916.6408845\ttotal: 4.28s\tremaining: 8.15s\n",
            "344:\tlearn: 12887.7650847\ttotal: 4.28s\tremaining: 8.13s\n",
            "345:\tlearn: 12849.8740862\ttotal: 4.29s\tremaining: 8.1s\n",
            "346:\tlearn: 12824.7715420\ttotal: 4.29s\tremaining: 8.08s\n",
            "347:\tlearn: 12800.4459761\ttotal: 4.3s\tremaining: 8.05s\n",
            "348:\tlearn: 12780.7862995\ttotal: 4.3s\tremaining: 8.03s\n",
            "349:\tlearn: 12751.4401583\ttotal: 4.31s\tremaining: 8s\n",
            "350:\tlearn: 12734.4290633\ttotal: 4.32s\tremaining: 7.98s\n",
            "351:\tlearn: 12715.2670978\ttotal: 4.32s\tremaining: 7.95s\n",
            "352:\tlearn: 12693.8497216\ttotal: 4.33s\tremaining: 7.93s\n",
            "353:\tlearn: 12687.3314011\ttotal: 4.33s\tremaining: 7.9s\n",
            "354:\tlearn: 12666.5459741\ttotal: 4.34s\tremaining: 7.88s\n",
            "355:\tlearn: 12641.2661390\ttotal: 4.34s\tremaining: 7.86s\n",
            "356:\tlearn: 12617.0474505\ttotal: 4.35s\tremaining: 7.83s\n",
            "357:\tlearn: 12613.4053795\ttotal: 4.35s\tremaining: 7.81s\n",
            "358:\tlearn: 12599.0004433\ttotal: 4.36s\tremaining: 7.78s\n",
            "359:\tlearn: 12569.6758947\ttotal: 4.36s\tremaining: 7.76s\n",
            "360:\tlearn: 12558.9973265\ttotal: 4.37s\tremaining: 7.74s\n",
            "361:\tlearn: 12546.2840072\ttotal: 4.38s\tremaining: 7.71s\n",
            "362:\tlearn: 12511.3319713\ttotal: 4.38s\tremaining: 7.69s\n",
            "363:\tlearn: 12490.0657286\ttotal: 4.39s\tremaining: 7.66s\n",
            "364:\tlearn: 12472.9625146\ttotal: 4.39s\tremaining: 7.64s\n",
            "365:\tlearn: 12457.1065797\ttotal: 4.4s\tremaining: 7.62s\n",
            "366:\tlearn: 12431.0800064\ttotal: 4.41s\tremaining: 7.6s\n",
            "367:\tlearn: 12404.5212351\ttotal: 4.41s\tremaining: 7.58s\n",
            "368:\tlearn: 12401.9067856\ttotal: 4.42s\tremaining: 7.56s\n",
            "369:\tlearn: 12373.8767267\ttotal: 4.42s\tremaining: 7.53s\n",
            "370:\tlearn: 12370.2827973\ttotal: 4.43s\tremaining: 7.51s\n",
            "371:\tlearn: 12367.0010905\ttotal: 4.43s\tremaining: 7.49s\n",
            "372:\tlearn: 12340.7963626\ttotal: 4.44s\tremaining: 7.46s\n",
            "373:\tlearn: 12322.7323160\ttotal: 4.45s\tremaining: 7.44s\n",
            "374:\tlearn: 12320.2633997\ttotal: 4.45s\tremaining: 7.42s\n",
            "375:\tlearn: 12298.1300445\ttotal: 4.46s\tremaining: 7.4s\n",
            "376:\tlearn: 12275.2188699\ttotal: 4.46s\tremaining: 7.37s\n",
            "377:\tlearn: 12265.8025084\ttotal: 4.47s\tremaining: 7.35s\n",
            "378:\tlearn: 12239.4651181\ttotal: 4.47s\tremaining: 7.33s\n",
            "379:\tlearn: 12222.1387025\ttotal: 4.48s\tremaining: 7.31s\n",
            "380:\tlearn: 12196.6365149\ttotal: 4.48s\tremaining: 7.29s\n",
            "381:\tlearn: 12177.1809903\ttotal: 4.49s\tremaining: 7.26s\n",
            "382:\tlearn: 12170.2053800\ttotal: 4.5s\tremaining: 7.24s\n",
            "383:\tlearn: 12149.9736373\ttotal: 4.5s\tremaining: 7.22s\n",
            "384:\tlearn: 12131.6554919\ttotal: 4.51s\tremaining: 7.2s\n",
            "385:\tlearn: 12119.3077267\ttotal: 4.51s\tremaining: 7.18s\n",
            "386:\tlearn: 12102.9604918\ttotal: 4.52s\tremaining: 7.16s\n",
            "387:\tlearn: 12086.6351296\ttotal: 4.52s\tremaining: 7.13s\n",
            "388:\tlearn: 12078.5905695\ttotal: 4.53s\tremaining: 7.11s\n",
            "389:\tlearn: 12063.9683820\ttotal: 4.53s\tremaining: 7.09s\n",
            "390:\tlearn: 12057.5808251\ttotal: 4.54s\tremaining: 7.07s\n",
            "391:\tlearn: 12037.0007573\ttotal: 4.55s\tremaining: 7.05s\n",
            "392:\tlearn: 12034.6607727\ttotal: 4.56s\tremaining: 7.04s\n",
            "393:\tlearn: 12006.9135299\ttotal: 4.57s\tremaining: 7.02s\n",
            "394:\tlearn: 11989.2491215\ttotal: 4.57s\tremaining: 7s\n",
            "395:\tlearn: 11965.8759308\ttotal: 4.58s\tremaining: 6.98s\n",
            "396:\tlearn: 11943.0474769\ttotal: 4.58s\tremaining: 6.96s\n",
            "397:\tlearn: 11918.6141386\ttotal: 4.59s\tremaining: 6.94s\n",
            "398:\tlearn: 11914.9366955\ttotal: 4.59s\tremaining: 6.92s\n",
            "399:\tlearn: 11894.0036034\ttotal: 4.6s\tremaining: 6.91s\n",
            "400:\tlearn: 11873.8880147\ttotal: 4.61s\tremaining: 6.89s\n",
            "401:\tlearn: 11852.0029830\ttotal: 4.62s\tremaining: 6.87s\n",
            "402:\tlearn: 11821.7727764\ttotal: 4.62s\tremaining: 6.85s\n",
            "403:\tlearn: 11811.2000466\ttotal: 4.63s\tremaining: 6.83s\n",
            "404:\tlearn: 11803.6555428\ttotal: 4.63s\tremaining: 6.8s\n",
            "405:\tlearn: 11790.9345842\ttotal: 4.64s\tremaining: 6.79s\n",
            "406:\tlearn: 11772.7161775\ttotal: 4.64s\tremaining: 6.76s\n",
            "407:\tlearn: 11755.3389394\ttotal: 4.65s\tremaining: 6.75s\n",
            "408:\tlearn: 11737.8340829\ttotal: 4.65s\tremaining: 6.73s\n",
            "409:\tlearn: 11711.0432014\ttotal: 4.66s\tremaining: 6.71s\n",
            "410:\tlearn: 11687.8073237\ttotal: 4.67s\tremaining: 6.69s\n",
            "411:\tlearn: 11676.7918366\ttotal: 4.67s\tremaining: 6.67s\n",
            "412:\tlearn: 11673.3080013\ttotal: 4.68s\tremaining: 6.65s\n",
            "413:\tlearn: 11653.6272078\ttotal: 4.68s\tremaining: 6.63s\n",
            "414:\tlearn: 11635.2943383\ttotal: 4.69s\tremaining: 6.61s\n",
            "415:\tlearn: 11608.7855747\ttotal: 4.69s\tremaining: 6.59s\n",
            "416:\tlearn: 11597.9979605\ttotal: 4.7s\tremaining: 6.57s\n",
            "417:\tlearn: 11595.1034520\ttotal: 4.7s\tremaining: 6.55s\n",
            "418:\tlearn: 11572.4076988\ttotal: 4.71s\tremaining: 6.53s\n",
            "419:\tlearn: 11542.9663695\ttotal: 4.71s\tremaining: 6.51s\n",
            "420:\tlearn: 11528.4253540\ttotal: 4.72s\tremaining: 6.49s\n",
            "421:\tlearn: 11509.9785720\ttotal: 4.73s\tremaining: 6.47s\n",
            "422:\tlearn: 11483.9582701\ttotal: 4.73s\tremaining: 6.45s\n",
            "423:\tlearn: 11480.8896958\ttotal: 4.74s\tremaining: 6.43s\n",
            "424:\tlearn: 11467.6858215\ttotal: 4.74s\tremaining: 6.42s\n",
            "425:\tlearn: 11443.3490827\ttotal: 4.75s\tremaining: 6.4s\n",
            "426:\tlearn: 11420.1844176\ttotal: 4.75s\tremaining: 6.38s\n",
            "427:\tlearn: 11401.0854766\ttotal: 4.76s\tremaining: 6.36s\n",
            "428:\tlearn: 11374.3574754\ttotal: 4.77s\tremaining: 6.34s\n",
            "429:\tlearn: 11349.4559139\ttotal: 4.77s\tremaining: 6.33s\n",
            "430:\tlearn: 11346.8878013\ttotal: 4.78s\tremaining: 6.31s\n",
            "431:\tlearn: 11344.3985156\ttotal: 4.78s\tremaining: 6.29s\n",
            "432:\tlearn: 11322.8696186\ttotal: 4.79s\tremaining: 6.27s\n",
            "433:\tlearn: 11308.0556623\ttotal: 4.8s\tremaining: 6.25s\n",
            "434:\tlearn: 11285.1758408\ttotal: 4.8s\tremaining: 6.24s\n",
            "435:\tlearn: 11259.4393009\ttotal: 4.81s\tremaining: 6.22s\n",
            "436:\tlearn: 11228.0182889\ttotal: 4.82s\tremaining: 6.2s\n",
            "437:\tlearn: 11225.6664149\ttotal: 4.82s\tremaining: 6.18s\n",
            "438:\tlearn: 11207.2481612\ttotal: 4.83s\tremaining: 6.17s\n",
            "439:\tlearn: 11181.3715936\ttotal: 4.83s\tremaining: 6.15s\n",
            "440:\tlearn: 11160.7473127\ttotal: 4.84s\tremaining: 6.13s\n",
            "441:\tlearn: 11158.7996115\ttotal: 4.84s\tremaining: 6.12s\n",
            "442:\tlearn: 11130.6005445\ttotal: 4.85s\tremaining: 6.1s\n",
            "443:\tlearn: 11111.9620829\ttotal: 4.86s\tremaining: 6.08s\n",
            "444:\tlearn: 11095.7681337\ttotal: 4.86s\tremaining: 6.06s\n",
            "445:\tlearn: 11080.9734462\ttotal: 4.87s\tremaining: 6.04s\n",
            "446:\tlearn: 11056.9819523\ttotal: 4.87s\tremaining: 6.03s\n",
            "447:\tlearn: 11038.1392830\ttotal: 4.88s\tremaining: 6.01s\n",
            "448:\tlearn: 11013.2821914\ttotal: 4.88s\tremaining: 5.99s\n",
            "449:\tlearn: 10992.5090380\ttotal: 4.89s\tremaining: 5.97s\n",
            "450:\tlearn: 10981.1160757\ttotal: 4.89s\tremaining: 5.96s\n",
            "451:\tlearn: 10956.5679439\ttotal: 4.9s\tremaining: 5.94s\n",
            "452:\tlearn: 10943.9490990\ttotal: 4.91s\tremaining: 5.92s\n",
            "453:\tlearn: 10929.7196846\ttotal: 4.91s\tremaining: 5.91s\n",
            "454:\tlearn: 10908.7283281\ttotal: 4.92s\tremaining: 5.89s\n",
            "455:\tlearn: 10894.9951605\ttotal: 4.92s\tremaining: 5.87s\n",
            "456:\tlearn: 10883.5110427\ttotal: 4.93s\tremaining: 5.86s\n",
            "457:\tlearn: 10866.5278033\ttotal: 4.93s\tremaining: 5.84s\n",
            "458:\tlearn: 10836.1151595\ttotal: 4.94s\tremaining: 5.82s\n",
            "459:\tlearn: 10823.5710465\ttotal: 4.95s\tremaining: 5.8s\n",
            "460:\tlearn: 10805.8467706\ttotal: 4.95s\tremaining: 5.79s\n",
            "461:\tlearn: 10791.6792006\ttotal: 4.96s\tremaining: 5.77s\n",
            "462:\tlearn: 10781.5359031\ttotal: 4.96s\tremaining: 5.75s\n",
            "463:\tlearn: 10774.1372040\ttotal: 4.97s\tremaining: 5.74s\n",
            "464:\tlearn: 10750.7689944\ttotal: 4.97s\tremaining: 5.72s\n",
            "465:\tlearn: 10737.2566892\ttotal: 4.98s\tremaining: 5.7s\n",
            "466:\tlearn: 10717.5034889\ttotal: 4.98s\tremaining: 5.69s\n",
            "467:\tlearn: 10704.0950916\ttotal: 5s\tremaining: 5.68s\n",
            "468:\tlearn: 10702.1600848\ttotal: 5s\tremaining: 5.66s\n",
            "469:\tlearn: 10688.7562064\ttotal: 5.01s\tremaining: 5.65s\n",
            "470:\tlearn: 10675.5565234\ttotal: 5.01s\tremaining: 5.63s\n",
            "471:\tlearn: 10660.3629864\ttotal: 5.02s\tremaining: 5.61s\n",
            "472:\tlearn: 10648.3254495\ttotal: 5.02s\tremaining: 5.6s\n",
            "473:\tlearn: 10646.4434351\ttotal: 5.03s\tremaining: 5.58s\n",
            "474:\tlearn: 10629.8982616\ttotal: 5.03s\tremaining: 5.56s\n",
            "475:\tlearn: 10605.9171551\ttotal: 5.04s\tremaining: 5.55s\n",
            "476:\tlearn: 10604.2607364\ttotal: 5.04s\tremaining: 5.53s\n",
            "477:\tlearn: 10581.1578587\ttotal: 5.05s\tremaining: 5.52s\n",
            "478:\tlearn: 10568.3139733\ttotal: 5.06s\tremaining: 5.5s\n",
            "479:\tlearn: 10548.0216007\ttotal: 5.06s\tremaining: 5.48s\n",
            "480:\tlearn: 10531.6001072\ttotal: 5.07s\tremaining: 5.47s\n",
            "481:\tlearn: 10515.5254351\ttotal: 5.07s\tremaining: 5.45s\n",
            "482:\tlearn: 10503.1682316\ttotal: 5.08s\tremaining: 5.44s\n",
            "483:\tlearn: 10500.5343822\ttotal: 5.08s\tremaining: 5.42s\n",
            "484:\tlearn: 10480.6216890\ttotal: 5.09s\tremaining: 5.4s\n",
            "485:\tlearn: 10468.3265588\ttotal: 5.09s\tremaining: 5.39s\n",
            "486:\tlearn: 10452.8874520\ttotal: 5.1s\tremaining: 5.37s\n",
            "487:\tlearn: 10451.1710856\ttotal: 5.11s\tremaining: 5.36s\n",
            "488:\tlearn: 10437.4544286\ttotal: 5.11s\tremaining: 5.34s\n",
            "489:\tlearn: 10420.3096397\ttotal: 5.12s\tremaining: 5.33s\n",
            "490:\tlearn: 10409.7738713\ttotal: 5.12s\tremaining: 5.31s\n",
            "491:\tlearn: 10394.8210825\ttotal: 5.13s\tremaining: 5.29s\n",
            "492:\tlearn: 10377.9087565\ttotal: 5.13s\tremaining: 5.28s\n",
            "493:\tlearn: 10370.2074545\ttotal: 5.14s\tremaining: 5.26s\n",
            "494:\tlearn: 10352.4270754\ttotal: 5.14s\tremaining: 5.25s\n",
            "495:\tlearn: 10337.0099743\ttotal: 5.15s\tremaining: 5.23s\n",
            "496:\tlearn: 10315.4037028\ttotal: 5.16s\tremaining: 5.22s\n",
            "497:\tlearn: 10299.8609356\ttotal: 5.16s\tremaining: 5.2s\n",
            "498:\tlearn: 10293.2065740\ttotal: 5.17s\tremaining: 5.19s\n",
            "499:\tlearn: 10271.9906844\ttotal: 5.17s\tremaining: 5.17s\n",
            "500:\tlearn: 10259.0881287\ttotal: 5.18s\tremaining: 5.16s\n",
            "501:\tlearn: 10245.7936260\ttotal: 5.18s\tremaining: 5.14s\n",
            "502:\tlearn: 10222.7361998\ttotal: 5.19s\tremaining: 5.13s\n",
            "503:\tlearn: 10205.6793571\ttotal: 5.2s\tremaining: 5.12s\n",
            "504:\tlearn: 10190.3369077\ttotal: 5.21s\tremaining: 5.1s\n",
            "505:\tlearn: 10176.7537702\ttotal: 5.21s\tremaining: 5.09s\n",
            "506:\tlearn: 10167.6957444\ttotal: 5.22s\tremaining: 5.07s\n",
            "507:\tlearn: 10154.2791267\ttotal: 5.22s\tremaining: 5.06s\n",
            "508:\tlearn: 10131.3791769\ttotal: 5.23s\tremaining: 5.04s\n",
            "509:\tlearn: 10128.6518342\ttotal: 5.23s\tremaining: 5.03s\n",
            "510:\tlearn: 10108.9479448\ttotal: 5.24s\tremaining: 5.02s\n",
            "511:\tlearn: 10092.7132746\ttotal: 5.25s\tremaining: 5.01s\n",
            "512:\tlearn: 10077.5972096\ttotal: 5.26s\tremaining: 4.99s\n",
            "513:\tlearn: 10060.6194807\ttotal: 5.27s\tremaining: 4.98s\n",
            "514:\tlearn: 10050.2037496\ttotal: 5.27s\tremaining: 4.96s\n",
            "515:\tlearn: 10032.0675517\ttotal: 5.28s\tremaining: 4.95s\n",
            "516:\tlearn: 10023.8518443\ttotal: 5.28s\tremaining: 4.93s\n",
            "517:\tlearn: 10020.2352642\ttotal: 5.29s\tremaining: 4.92s\n",
            "518:\tlearn: 10006.7132708\ttotal: 5.29s\tremaining: 4.91s\n",
            "519:\tlearn: 10004.2155561\ttotal: 5.3s\tremaining: 4.89s\n",
            "520:\tlearn: 10002.6672196\ttotal: 5.3s\tremaining: 4.88s\n",
            "521:\tlearn: 10001.4077491\ttotal: 5.31s\tremaining: 4.86s\n",
            "522:\tlearn: 9988.7913512\ttotal: 5.31s\tremaining: 4.85s\n",
            "523:\tlearn: 9971.4445128\ttotal: 5.32s\tremaining: 4.83s\n",
            "524:\tlearn: 9951.3407963\ttotal: 5.33s\tremaining: 4.82s\n",
            "525:\tlearn: 9938.1397710\ttotal: 5.33s\tremaining: 4.8s\n",
            "526:\tlearn: 9933.1713833\ttotal: 5.34s\tremaining: 4.79s\n",
            "527:\tlearn: 9913.8297167\ttotal: 5.34s\tremaining: 4.78s\n",
            "528:\tlearn: 9897.0171007\ttotal: 5.35s\tremaining: 4.76s\n",
            "529:\tlearn: 9880.3773084\ttotal: 5.35s\tremaining: 4.75s\n",
            "530:\tlearn: 9855.7427392\ttotal: 5.36s\tremaining: 4.73s\n",
            "531:\tlearn: 9837.2519209\ttotal: 5.36s\tremaining: 4.72s\n",
            "532:\tlearn: 9826.4262550\ttotal: 5.37s\tremaining: 4.7s\n",
            "533:\tlearn: 9809.7326376\ttotal: 5.37s\tremaining: 4.69s\n",
            "534:\tlearn: 9795.1529792\ttotal: 5.38s\tremaining: 4.68s\n",
            "535:\tlearn: 9779.3296615\ttotal: 5.39s\tremaining: 4.66s\n",
            "536:\tlearn: 9760.9049145\ttotal: 5.39s\tremaining: 4.65s\n",
            "537:\tlearn: 9745.9991401\ttotal: 5.4s\tremaining: 4.64s\n",
            "538:\tlearn: 9735.4749917\ttotal: 5.41s\tremaining: 4.62s\n",
            "539:\tlearn: 9724.5635145\ttotal: 5.41s\tremaining: 4.61s\n",
            "540:\tlearn: 9709.8945219\ttotal: 5.42s\tremaining: 4.6s\n",
            "541:\tlearn: 9695.0042180\ttotal: 5.42s\tremaining: 4.58s\n",
            "542:\tlearn: 9685.2357837\ttotal: 5.43s\tremaining: 4.57s\n",
            "543:\tlearn: 9674.3181201\ttotal: 5.43s\tremaining: 4.55s\n",
            "544:\tlearn: 9651.4580119\ttotal: 5.44s\tremaining: 4.54s\n",
            "545:\tlearn: 9649.2635879\ttotal: 5.44s\tremaining: 4.53s\n",
            "546:\tlearn: 9635.2511442\ttotal: 5.45s\tremaining: 4.51s\n",
            "547:\tlearn: 9615.8194509\ttotal: 5.46s\tremaining: 4.5s\n",
            "548:\tlearn: 9614.3822725\ttotal: 5.46s\tremaining: 4.49s\n",
            "549:\tlearn: 9603.0928751\ttotal: 5.47s\tremaining: 4.47s\n",
            "550:\tlearn: 9591.9478334\ttotal: 5.47s\tremaining: 4.46s\n",
            "551:\tlearn: 9575.9388441\ttotal: 5.48s\tremaining: 4.45s\n",
            "552:\tlearn: 9563.0946575\ttotal: 5.49s\tremaining: 4.43s\n",
            "553:\tlearn: 9535.6470320\ttotal: 5.49s\tremaining: 4.42s\n",
            "554:\tlearn: 9519.6289980\ttotal: 5.5s\tremaining: 4.41s\n",
            "555:\tlearn: 9502.4747970\ttotal: 5.5s\tremaining: 4.39s\n",
            "556:\tlearn: 9485.1746680\ttotal: 5.51s\tremaining: 4.38s\n",
            "557:\tlearn: 9472.6144177\ttotal: 5.52s\tremaining: 4.38s\n",
            "558:\tlearn: 9462.5618073\ttotal: 5.53s\tremaining: 4.36s\n",
            "559:\tlearn: 9448.0784682\ttotal: 5.54s\tremaining: 4.35s\n",
            "560:\tlearn: 9435.5156230\ttotal: 5.54s\tremaining: 4.34s\n",
            "561:\tlearn: 9419.7244626\ttotal: 5.55s\tremaining: 4.32s\n",
            "562:\tlearn: 9403.3385140\ttotal: 5.55s\tremaining: 4.31s\n",
            "563:\tlearn: 9387.4040110\ttotal: 5.56s\tremaining: 4.3s\n",
            "564:\tlearn: 9385.2544308\ttotal: 5.57s\tremaining: 4.28s\n",
            "565:\tlearn: 9361.8468955\ttotal: 5.57s\tremaining: 4.27s\n",
            "566:\tlearn: 9355.0446132\ttotal: 5.58s\tremaining: 4.26s\n",
            "567:\tlearn: 9341.5388851\ttotal: 5.59s\tremaining: 4.25s\n",
            "568:\tlearn: 9324.5322481\ttotal: 5.59s\tremaining: 4.24s\n",
            "569:\tlearn: 9322.5815009\ttotal: 5.6s\tremaining: 4.22s\n",
            "570:\tlearn: 9313.2325630\ttotal: 5.6s\tremaining: 4.21s\n",
            "571:\tlearn: 9294.3154138\ttotal: 5.61s\tremaining: 4.2s\n",
            "572:\tlearn: 9280.6885551\ttotal: 5.61s\tremaining: 4.18s\n",
            "573:\tlearn: 9265.6839842\ttotal: 5.62s\tremaining: 4.17s\n",
            "574:\tlearn: 9256.3673467\ttotal: 5.63s\tremaining: 4.16s\n",
            "575:\tlearn: 9251.0117620\ttotal: 5.63s\tremaining: 4.14s\n",
            "576:\tlearn: 9243.6806798\ttotal: 5.63s\tremaining: 4.13s\n",
            "577:\tlearn: 9227.5281769\ttotal: 5.64s\tremaining: 4.12s\n",
            "578:\tlearn: 9216.0703688\ttotal: 5.65s\tremaining: 4.11s\n",
            "579:\tlearn: 9206.2662168\ttotal: 5.65s\tremaining: 4.09s\n",
            "580:\tlearn: 9184.5711669\ttotal: 5.66s\tremaining: 4.08s\n",
            "581:\tlearn: 9183.2729790\ttotal: 5.66s\tremaining: 4.07s\n",
            "582:\tlearn: 9173.3310222\ttotal: 5.67s\tremaining: 4.05s\n",
            "583:\tlearn: 9157.9740538\ttotal: 5.67s\tremaining: 4.04s\n",
            "584:\tlearn: 9147.3495115\ttotal: 5.68s\tremaining: 4.03s\n",
            "585:\tlearn: 9146.1110006\ttotal: 5.68s\tremaining: 4.01s\n",
            "586:\tlearn: 9131.7268496\ttotal: 5.69s\tremaining: 4s\n",
            "587:\tlearn: 9119.6196512\ttotal: 5.7s\tremaining: 3.99s\n",
            "588:\tlearn: 9110.8132688\ttotal: 5.7s\tremaining: 3.98s\n",
            "589:\tlearn: 9100.4065530\ttotal: 5.71s\tremaining: 3.96s\n",
            "590:\tlearn: 9089.1964567\ttotal: 5.71s\tremaining: 3.95s\n",
            "591:\tlearn: 9077.2375712\ttotal: 5.72s\tremaining: 3.94s\n",
            "592:\tlearn: 9064.7615112\ttotal: 5.72s\tremaining: 3.93s\n",
            "593:\tlearn: 9051.5846738\ttotal: 5.73s\tremaining: 3.92s\n",
            "594:\tlearn: 9038.1875038\ttotal: 5.74s\tremaining: 3.9s\n",
            "595:\tlearn: 9018.5362057\ttotal: 5.74s\tremaining: 3.89s\n",
            "596:\tlearn: 9017.4754001\ttotal: 5.75s\tremaining: 3.88s\n",
            "597:\tlearn: 9001.4786281\ttotal: 5.75s\tremaining: 3.87s\n",
            "598:\tlearn: 8979.5300346\ttotal: 5.76s\tremaining: 3.85s\n",
            "599:\tlearn: 8964.2654474\ttotal: 5.76s\tremaining: 3.84s\n",
            "600:\tlearn: 8947.8118274\ttotal: 5.77s\tremaining: 3.83s\n",
            "601:\tlearn: 8946.6077846\ttotal: 5.77s\tremaining: 3.82s\n",
            "602:\tlearn: 8924.4267252\ttotal: 5.78s\tremaining: 3.81s\n",
            "603:\tlearn: 8915.4141145\ttotal: 5.79s\tremaining: 3.79s\n",
            "604:\tlearn: 8898.7690757\ttotal: 5.79s\tremaining: 3.78s\n",
            "605:\tlearn: 8888.9335010\ttotal: 5.8s\tremaining: 3.77s\n",
            "606:\tlearn: 8870.1289115\ttotal: 5.8s\tremaining: 3.76s\n",
            "607:\tlearn: 8858.5080045\ttotal: 5.81s\tremaining: 3.75s\n",
            "608:\tlearn: 8854.6540879\ttotal: 5.82s\tremaining: 3.73s\n",
            "609:\tlearn: 8843.0592753\ttotal: 5.82s\tremaining: 3.72s\n",
            "610:\tlearn: 8835.3651921\ttotal: 5.83s\tremaining: 3.71s\n",
            "611:\tlearn: 8822.1832001\ttotal: 5.83s\tremaining: 3.7s\n",
            "612:\tlearn: 8816.1641764\ttotal: 5.84s\tremaining: 3.68s\n",
            "613:\tlearn: 8809.3222793\ttotal: 5.84s\tremaining: 3.67s\n",
            "614:\tlearn: 8801.8528933\ttotal: 5.85s\tremaining: 3.66s\n",
            "615:\tlearn: 8791.3805136\ttotal: 5.85s\tremaining: 3.65s\n",
            "616:\tlearn: 8784.8231424\ttotal: 5.86s\tremaining: 3.64s\n",
            "617:\tlearn: 8771.9345023\ttotal: 5.86s\tremaining: 3.62s\n",
            "618:\tlearn: 8760.2860902\ttotal: 5.87s\tremaining: 3.61s\n",
            "619:\tlearn: 8751.0448069\ttotal: 5.88s\tremaining: 3.6s\n",
            "620:\tlearn: 8735.5766452\ttotal: 5.89s\tremaining: 3.59s\n",
            "621:\tlearn: 8730.4245857\ttotal: 5.89s\tremaining: 3.58s\n",
            "622:\tlearn: 8720.4257391\ttotal: 5.9s\tremaining: 3.57s\n",
            "623:\tlearn: 8706.8679409\ttotal: 5.9s\tremaining: 3.56s\n",
            "624:\tlearn: 8689.0535117\ttotal: 5.91s\tremaining: 3.54s\n",
            "625:\tlearn: 8678.7230478\ttotal: 5.91s\tremaining: 3.53s\n",
            "626:\tlearn: 8659.3994700\ttotal: 5.92s\tremaining: 3.52s\n",
            "627:\tlearn: 8638.9549249\ttotal: 5.92s\tremaining: 3.51s\n",
            "628:\tlearn: 8617.9884663\ttotal: 5.93s\tremaining: 3.5s\n",
            "629:\tlearn: 8607.3989486\ttotal: 5.93s\tremaining: 3.49s\n",
            "630:\tlearn: 8594.5128807\ttotal: 5.94s\tremaining: 3.47s\n",
            "631:\tlearn: 8577.6072263\ttotal: 5.95s\tremaining: 3.46s\n",
            "632:\tlearn: 8565.8372624\ttotal: 5.95s\tremaining: 3.45s\n",
            "633:\tlearn: 8552.6940005\ttotal: 5.96s\tremaining: 3.44s\n",
            "634:\tlearn: 8535.7219646\ttotal: 5.96s\tremaining: 3.43s\n",
            "635:\tlearn: 8526.6989219\ttotal: 5.97s\tremaining: 3.42s\n",
            "636:\tlearn: 8525.8194070\ttotal: 5.98s\tremaining: 3.41s\n",
            "637:\tlearn: 8509.4396054\ttotal: 5.99s\tremaining: 3.4s\n",
            "638:\tlearn: 8492.8354849\ttotal: 5.99s\tremaining: 3.39s\n",
            "639:\tlearn: 8479.8527198\ttotal: 6s\tremaining: 3.38s\n",
            "640:\tlearn: 8472.9760221\ttotal: 6s\tremaining: 3.36s\n",
            "641:\tlearn: 8462.9220768\ttotal: 6.01s\tremaining: 3.35s\n",
            "642:\tlearn: 8449.5561565\ttotal: 6.02s\tremaining: 3.34s\n",
            "643:\tlearn: 8437.6969721\ttotal: 6.02s\tremaining: 3.33s\n",
            "644:\tlearn: 8424.4779743\ttotal: 6.03s\tremaining: 3.32s\n",
            "645:\tlearn: 8423.4244168\ttotal: 6.03s\tremaining: 3.31s\n",
            "646:\tlearn: 8412.4664646\ttotal: 6.04s\tremaining: 3.29s\n",
            "647:\tlearn: 8403.5487839\ttotal: 6.04s\tremaining: 3.28s\n",
            "648:\tlearn: 8390.3085715\ttotal: 6.05s\tremaining: 3.27s\n",
            "649:\tlearn: 8379.0460056\ttotal: 6.05s\tremaining: 3.26s\n",
            "650:\tlearn: 8365.3047137\ttotal: 6.06s\tremaining: 3.25s\n",
            "651:\tlearn: 8350.1802743\ttotal: 6.07s\tremaining: 3.24s\n",
            "652:\tlearn: 8340.9354433\ttotal: 6.07s\tremaining: 3.23s\n",
            "653:\tlearn: 8331.0529225\ttotal: 6.08s\tremaining: 3.21s\n",
            "654:\tlearn: 8314.8883712\ttotal: 6.08s\tremaining: 3.2s\n",
            "655:\tlearn: 8295.8310363\ttotal: 6.09s\tremaining: 3.19s\n",
            "656:\tlearn: 8288.4879927\ttotal: 6.09s\tremaining: 3.18s\n",
            "657:\tlearn: 8287.5247364\ttotal: 6.1s\tremaining: 3.17s\n",
            "658:\tlearn: 8273.1175840\ttotal: 6.1s\tremaining: 3.16s\n",
            "659:\tlearn: 8262.1279015\ttotal: 6.11s\tremaining: 3.15s\n",
            "660:\tlearn: 8247.1840134\ttotal: 6.12s\tremaining: 3.14s\n",
            "661:\tlearn: 8241.7963886\ttotal: 6.12s\tremaining: 3.13s\n",
            "662:\tlearn: 8233.1487920\ttotal: 6.13s\tremaining: 3.11s\n",
            "663:\tlearn: 8224.4340489\ttotal: 6.13s\tremaining: 3.1s\n",
            "664:\tlearn: 8219.8114112\ttotal: 6.14s\tremaining: 3.09s\n",
            "665:\tlearn: 8205.7499292\ttotal: 6.14s\tremaining: 3.08s\n",
            "666:\tlearn: 8196.8750677\ttotal: 6.15s\tremaining: 3.07s\n",
            "667:\tlearn: 8185.0249066\ttotal: 6.15s\tremaining: 3.06s\n",
            "668:\tlearn: 8177.9844819\ttotal: 6.16s\tremaining: 3.05s\n",
            "669:\tlearn: 8167.6816929\ttotal: 6.17s\tremaining: 3.04s\n",
            "670:\tlearn: 8157.6816540\ttotal: 6.17s\tremaining: 3.03s\n",
            "671:\tlearn: 8153.4927117\ttotal: 6.18s\tremaining: 3.02s\n",
            "672:\tlearn: 8143.0960176\ttotal: 6.19s\tremaining: 3.01s\n",
            "673:\tlearn: 8130.5808778\ttotal: 6.19s\tremaining: 3s\n",
            "674:\tlearn: 8119.8223157\ttotal: 6.2s\tremaining: 2.98s\n",
            "675:\tlearn: 8107.4235083\ttotal: 6.21s\tremaining: 2.97s\n",
            "676:\tlearn: 8105.1617174\ttotal: 6.21s\tremaining: 2.96s\n",
            "677:\tlearn: 8100.0607501\ttotal: 6.22s\tremaining: 2.95s\n",
            "678:\tlearn: 8085.7564121\ttotal: 6.22s\tremaining: 2.94s\n",
            "679:\tlearn: 8074.3837951\ttotal: 6.23s\tremaining: 2.93s\n",
            "680:\tlearn: 8065.1768716\ttotal: 6.23s\tremaining: 2.92s\n",
            "681:\tlearn: 8058.4858696\ttotal: 6.24s\tremaining: 2.91s\n",
            "682:\tlearn: 8048.5138957\ttotal: 6.24s\tremaining: 2.9s\n",
            "683:\tlearn: 8036.3936770\ttotal: 6.25s\tremaining: 2.89s\n",
            "684:\tlearn: 8029.9715699\ttotal: 6.25s\tremaining: 2.88s\n",
            "685:\tlearn: 8018.8810342\ttotal: 6.26s\tremaining: 2.87s\n",
            "686:\tlearn: 8013.1110325\ttotal: 6.27s\tremaining: 2.85s\n",
            "687:\tlearn: 8007.1967307\ttotal: 6.27s\tremaining: 2.84s\n",
            "688:\tlearn: 8001.6265087\ttotal: 6.28s\tremaining: 2.83s\n",
            "689:\tlearn: 7995.3080059\ttotal: 6.28s\tremaining: 2.82s\n",
            "690:\tlearn: 7990.0086516\ttotal: 6.29s\tremaining: 2.81s\n",
            "691:\tlearn: 7980.0559550\ttotal: 6.29s\tremaining: 2.8s\n",
            "692:\tlearn: 7969.3078894\ttotal: 6.3s\tremaining: 2.79s\n",
            "693:\tlearn: 7956.7377928\ttotal: 6.3s\tremaining: 2.78s\n",
            "694:\tlearn: 7935.7997112\ttotal: 6.31s\tremaining: 2.77s\n",
            "695:\tlearn: 7922.8905856\ttotal: 6.32s\tremaining: 2.76s\n",
            "696:\tlearn: 7904.5815284\ttotal: 6.32s\tremaining: 2.75s\n",
            "697:\tlearn: 7890.5886589\ttotal: 6.33s\tremaining: 2.74s\n",
            "698:\tlearn: 7879.9770191\ttotal: 6.33s\tremaining: 2.73s\n",
            "699:\tlearn: 7867.7398428\ttotal: 6.34s\tremaining: 2.72s\n",
            "700:\tlearn: 7850.3977455\ttotal: 6.34s\tremaining: 2.71s\n",
            "701:\tlearn: 7843.1272534\ttotal: 6.35s\tremaining: 2.69s\n",
            "702:\tlearn: 7837.1978522\ttotal: 6.35s\tremaining: 2.68s\n",
            "703:\tlearn: 7823.8143762\ttotal: 6.36s\tremaining: 2.67s\n",
            "704:\tlearn: 7820.0156062\ttotal: 6.37s\tremaining: 2.66s\n",
            "705:\tlearn: 7807.9110906\ttotal: 6.37s\tremaining: 2.65s\n",
            "706:\tlearn: 7806.6992624\ttotal: 6.38s\tremaining: 2.64s\n",
            "707:\tlearn: 7795.9840266\ttotal: 6.38s\tremaining: 2.63s\n",
            "708:\tlearn: 7787.2104376\ttotal: 6.39s\tremaining: 2.62s\n",
            "709:\tlearn: 7782.1364506\ttotal: 6.39s\tremaining: 2.61s\n",
            "710:\tlearn: 7770.7896079\ttotal: 6.4s\tremaining: 2.6s\n",
            "711:\tlearn: 7764.5865055\ttotal: 6.41s\tremaining: 2.59s\n",
            "712:\tlearn: 7754.6138700\ttotal: 6.41s\tremaining: 2.58s\n",
            "713:\tlearn: 7742.2718859\ttotal: 6.42s\tremaining: 2.57s\n",
            "714:\tlearn: 7728.2119819\ttotal: 6.42s\tremaining: 2.56s\n",
            "715:\tlearn: 7713.7870545\ttotal: 6.43s\tremaining: 2.55s\n",
            "716:\tlearn: 7708.2767620\ttotal: 6.43s\tremaining: 2.54s\n",
            "717:\tlearn: 7698.9566927\ttotal: 6.44s\tremaining: 2.53s\n",
            "718:\tlearn: 7683.8394996\ttotal: 6.45s\tremaining: 2.52s\n",
            "719:\tlearn: 7676.0965293\ttotal: 6.46s\tremaining: 2.51s\n",
            "720:\tlearn: 7668.0478209\ttotal: 6.46s\tremaining: 2.5s\n",
            "721:\tlearn: 7659.0666232\ttotal: 6.47s\tremaining: 2.49s\n",
            "722:\tlearn: 7650.5045400\ttotal: 6.47s\tremaining: 2.48s\n",
            "723:\tlearn: 7642.9523128\ttotal: 6.48s\tremaining: 2.47s\n",
            "724:\tlearn: 7635.9058239\ttotal: 6.49s\tremaining: 2.46s\n",
            "725:\tlearn: 7624.0549047\ttotal: 6.5s\tremaining: 2.45s\n",
            "726:\tlearn: 7609.2456558\ttotal: 6.5s\tremaining: 2.44s\n",
            "727:\tlearn: 7597.4644344\ttotal: 6.51s\tremaining: 2.43s\n",
            "728:\tlearn: 7587.9349077\ttotal: 6.51s\tremaining: 2.42s\n",
            "729:\tlearn: 7574.5887394\ttotal: 6.52s\tremaining: 2.41s\n",
            "730:\tlearn: 7569.7597459\ttotal: 6.52s\tremaining: 2.4s\n",
            "731:\tlearn: 7567.7742154\ttotal: 6.53s\tremaining: 2.39s\n",
            "732:\tlearn: 7559.0256452\ttotal: 6.53s\tremaining: 2.38s\n",
            "733:\tlearn: 7558.1497660\ttotal: 6.54s\tremaining: 2.37s\n",
            "734:\tlearn: 7547.7861072\ttotal: 6.54s\tremaining: 2.36s\n",
            "735:\tlearn: 7535.8419965\ttotal: 6.55s\tremaining: 2.35s\n",
            "736:\tlearn: 7530.6200765\ttotal: 6.56s\tremaining: 2.34s\n",
            "737:\tlearn: 7518.1444243\ttotal: 6.57s\tremaining: 2.33s\n",
            "738:\tlearn: 7508.6073781\ttotal: 6.57s\tremaining: 2.32s\n",
            "739:\tlearn: 7507.2298416\ttotal: 6.58s\tremaining: 2.31s\n",
            "740:\tlearn: 7497.5109225\ttotal: 6.58s\tremaining: 2.3s\n",
            "741:\tlearn: 7496.5002030\ttotal: 6.59s\tremaining: 2.29s\n",
            "742:\tlearn: 7491.0467437\ttotal: 6.59s\tremaining: 2.28s\n",
            "743:\tlearn: 7482.1983480\ttotal: 6.6s\tremaining: 2.27s\n",
            "744:\tlearn: 7477.7621550\ttotal: 6.61s\tremaining: 2.26s\n",
            "745:\tlearn: 7466.9881570\ttotal: 6.61s\tremaining: 2.25s\n",
            "746:\tlearn: 7460.4155637\ttotal: 6.62s\tremaining: 2.24s\n",
            "747:\tlearn: 7457.2366140\ttotal: 6.62s\tremaining: 2.23s\n",
            "748:\tlearn: 7449.7389656\ttotal: 6.63s\tremaining: 2.22s\n",
            "749:\tlearn: 7444.1864531\ttotal: 6.63s\tremaining: 2.21s\n",
            "750:\tlearn: 7443.1519887\ttotal: 6.64s\tremaining: 2.2s\n",
            "751:\tlearn: 7427.8659395\ttotal: 6.64s\tremaining: 2.19s\n",
            "752:\tlearn: 7420.2359251\ttotal: 6.65s\tremaining: 2.18s\n",
            "753:\tlearn: 7416.5962980\ttotal: 6.65s\tremaining: 2.17s\n",
            "754:\tlearn: 7409.8316423\ttotal: 6.66s\tremaining: 2.16s\n",
            "755:\tlearn: 7403.5171552\ttotal: 6.66s\tremaining: 2.15s\n",
            "756:\tlearn: 7391.1742842\ttotal: 6.67s\tremaining: 2.14s\n",
            "757:\tlearn: 7385.4382772\ttotal: 6.67s\tremaining: 2.13s\n",
            "758:\tlearn: 7372.2669866\ttotal: 6.68s\tremaining: 2.12s\n",
            "759:\tlearn: 7364.9547885\ttotal: 6.69s\tremaining: 2.11s\n",
            "760:\tlearn: 7362.4134489\ttotal: 6.69s\tremaining: 2.1s\n",
            "761:\tlearn: 7350.1209518\ttotal: 6.7s\tremaining: 2.09s\n",
            "762:\tlearn: 7348.7459083\ttotal: 6.71s\tremaining: 2.08s\n",
            "763:\tlearn: 7336.5340172\ttotal: 6.71s\tremaining: 2.07s\n",
            "764:\tlearn: 7334.3559546\ttotal: 6.72s\tremaining: 2.06s\n",
            "765:\tlearn: 7333.6294869\ttotal: 6.72s\tremaining: 2.05s\n",
            "766:\tlearn: 7322.8094715\ttotal: 6.73s\tremaining: 2.04s\n",
            "767:\tlearn: 7315.3337987\ttotal: 6.73s\tremaining: 2.03s\n",
            "768:\tlearn: 7304.3999215\ttotal: 6.74s\tremaining: 2.02s\n",
            "769:\tlearn: 7294.7520393\ttotal: 6.74s\tremaining: 2.01s\n",
            "770:\tlearn: 7288.1941887\ttotal: 6.75s\tremaining: 2s\n",
            "771:\tlearn: 7276.3371354\ttotal: 6.75s\tremaining: 1.99s\n",
            "772:\tlearn: 7271.7367139\ttotal: 6.76s\tremaining: 1.99s\n",
            "773:\tlearn: 7261.2103491\ttotal: 6.77s\tremaining: 1.98s\n",
            "774:\tlearn: 7249.9397782\ttotal: 6.77s\tremaining: 1.97s\n",
            "775:\tlearn: 7237.6592751\ttotal: 6.78s\tremaining: 1.96s\n",
            "776:\tlearn: 7225.3459356\ttotal: 6.79s\tremaining: 1.95s\n",
            "777:\tlearn: 7212.6900155\ttotal: 6.79s\tremaining: 1.94s\n",
            "778:\tlearn: 7202.4224875\ttotal: 6.8s\tremaining: 1.93s\n",
            "779:\tlearn: 7192.5571874\ttotal: 6.8s\tremaining: 1.92s\n",
            "780:\tlearn: 7183.8095505\ttotal: 6.81s\tremaining: 1.91s\n",
            "781:\tlearn: 7175.2137834\ttotal: 6.81s\tremaining: 1.9s\n",
            "782:\tlearn: 7161.4958255\ttotal: 6.82s\tremaining: 1.89s\n",
            "783:\tlearn: 7155.6178936\ttotal: 6.83s\tremaining: 1.88s\n",
            "784:\tlearn: 7154.4235688\ttotal: 6.83s\tremaining: 1.87s\n",
            "785:\tlearn: 7143.5309485\ttotal: 6.84s\tremaining: 1.86s\n",
            "786:\tlearn: 7131.4290046\ttotal: 6.84s\tremaining: 1.85s\n",
            "787:\tlearn: 7124.6870720\ttotal: 6.85s\tremaining: 1.84s\n",
            "788:\tlearn: 7118.6303963\ttotal: 6.85s\tremaining: 1.83s\n",
            "789:\tlearn: 7113.9736313\ttotal: 6.86s\tremaining: 1.82s\n",
            "790:\tlearn: 7112.7370990\ttotal: 6.86s\tremaining: 1.81s\n",
            "791:\tlearn: 7111.1021040\ttotal: 6.87s\tremaining: 1.8s\n",
            "792:\tlearn: 7099.9289728\ttotal: 6.88s\tremaining: 1.79s\n",
            "793:\tlearn: 7088.3712757\ttotal: 6.88s\tremaining: 1.78s\n",
            "794:\tlearn: 7080.7256719\ttotal: 6.89s\tremaining: 1.77s\n",
            "795:\tlearn: 7069.3650022\ttotal: 6.89s\tremaining: 1.77s\n",
            "796:\tlearn: 7059.9509866\ttotal: 6.9s\tremaining: 1.76s\n",
            "797:\tlearn: 7052.1155546\ttotal: 6.9s\tremaining: 1.75s\n",
            "798:\tlearn: 7050.0500904\ttotal: 6.91s\tremaining: 1.74s\n",
            "799:\tlearn: 7035.0979542\ttotal: 6.91s\tremaining: 1.73s\n",
            "800:\tlearn: 7031.9833078\ttotal: 6.92s\tremaining: 1.72s\n",
            "801:\tlearn: 7020.1985504\ttotal: 6.92s\tremaining: 1.71s\n",
            "802:\tlearn: 7011.7587454\ttotal: 6.93s\tremaining: 1.7s\n",
            "803:\tlearn: 7003.8537450\ttotal: 6.94s\tremaining: 1.69s\n",
            "804:\tlearn: 6995.1730652\ttotal: 6.95s\tremaining: 1.68s\n",
            "805:\tlearn: 6991.1096059\ttotal: 6.95s\tremaining: 1.67s\n",
            "806:\tlearn: 6983.9129166\ttotal: 6.96s\tremaining: 1.66s\n",
            "807:\tlearn: 6983.2118762\ttotal: 6.97s\tremaining: 1.66s\n",
            "808:\tlearn: 6969.7623818\ttotal: 6.97s\tremaining: 1.65s\n",
            "809:\tlearn: 6961.1633777\ttotal: 6.98s\tremaining: 1.64s\n",
            "810:\tlearn: 6958.9052585\ttotal: 6.98s\tremaining: 1.63s\n",
            "811:\tlearn: 6951.4599593\ttotal: 6.99s\tremaining: 1.62s\n",
            "812:\tlearn: 6943.7595966\ttotal: 7s\tremaining: 1.61s\n",
            "813:\tlearn: 6935.9194466\ttotal: 7s\tremaining: 1.6s\n",
            "814:\tlearn: 6928.2152003\ttotal: 7.01s\tremaining: 1.59s\n",
            "815:\tlearn: 6925.1295440\ttotal: 7.01s\tremaining: 1.58s\n",
            "816:\tlearn: 6914.6579467\ttotal: 7.02s\tremaining: 1.57s\n",
            "817:\tlearn: 6904.2444298\ttotal: 7.02s\tremaining: 1.56s\n",
            "818:\tlearn: 6902.7282055\ttotal: 7.03s\tremaining: 1.55s\n",
            "819:\tlearn: 6895.4660950\ttotal: 7.03s\tremaining: 1.54s\n",
            "820:\tlearn: 6892.2705289\ttotal: 7.04s\tremaining: 1.53s\n",
            "821:\tlearn: 6881.4546333\ttotal: 7.04s\tremaining: 1.52s\n",
            "822:\tlearn: 6873.9543345\ttotal: 7.05s\tremaining: 1.52s\n",
            "823:\tlearn: 6861.8490443\ttotal: 7.05s\tremaining: 1.51s\n",
            "824:\tlearn: 6855.4294697\ttotal: 7.06s\tremaining: 1.5s\n",
            "825:\tlearn: 6847.5575014\ttotal: 7.07s\tremaining: 1.49s\n",
            "826:\tlearn: 6834.8023447\ttotal: 7.07s\tremaining: 1.48s\n",
            "827:\tlearn: 6827.4152809\ttotal: 7.08s\tremaining: 1.47s\n",
            "828:\tlearn: 6822.3385388\ttotal: 7.08s\tremaining: 1.46s\n",
            "829:\tlearn: 6815.4189836\ttotal: 7.09s\tremaining: 1.45s\n",
            "830:\tlearn: 6810.8210386\ttotal: 7.09s\tremaining: 1.44s\n",
            "831:\tlearn: 6809.8727787\ttotal: 7.1s\tremaining: 1.43s\n",
            "832:\tlearn: 6807.1221775\ttotal: 7.1s\tremaining: 1.42s\n",
            "833:\tlearn: 6806.3643123\ttotal: 7.11s\tremaining: 1.42s\n",
            "834:\tlearn: 6801.1036107\ttotal: 7.12s\tremaining: 1.41s\n",
            "835:\tlearn: 6794.5326792\ttotal: 7.12s\tremaining: 1.4s\n",
            "836:\tlearn: 6788.6279629\ttotal: 7.13s\tremaining: 1.39s\n",
            "837:\tlearn: 6780.4336167\ttotal: 7.13s\tremaining: 1.38s\n",
            "838:\tlearn: 6772.6791927\ttotal: 7.14s\tremaining: 1.37s\n",
            "839:\tlearn: 6766.1062326\ttotal: 7.14s\tremaining: 1.36s\n",
            "840:\tlearn: 6758.9954382\ttotal: 7.15s\tremaining: 1.35s\n",
            "841:\tlearn: 6748.0322424\ttotal: 7.16s\tremaining: 1.34s\n",
            "842:\tlearn: 6747.2710306\ttotal: 7.16s\tremaining: 1.33s\n",
            "843:\tlearn: 6739.0921164\ttotal: 7.17s\tremaining: 1.32s\n",
            "844:\tlearn: 6731.4090252\ttotal: 7.17s\tremaining: 1.32s\n",
            "845:\tlearn: 6726.5680910\ttotal: 7.18s\tremaining: 1.31s\n",
            "846:\tlearn: 6719.5255930\ttotal: 7.18s\tremaining: 1.3s\n",
            "847:\tlearn: 6708.6728765\ttotal: 7.19s\tremaining: 1.29s\n",
            "848:\tlearn: 6700.6008510\ttotal: 7.2s\tremaining: 1.28s\n",
            "849:\tlearn: 6692.3881815\ttotal: 7.2s\tremaining: 1.27s\n",
            "850:\tlearn: 6686.3257564\ttotal: 7.21s\tremaining: 1.26s\n",
            "851:\tlearn: 6680.9782894\ttotal: 7.21s\tremaining: 1.25s\n",
            "852:\tlearn: 6672.1415582\ttotal: 7.22s\tremaining: 1.24s\n",
            "853:\tlearn: 6663.7588676\ttotal: 7.22s\tremaining: 1.23s\n",
            "854:\tlearn: 6658.3088439\ttotal: 7.23s\tremaining: 1.23s\n",
            "855:\tlearn: 6648.6582622\ttotal: 7.23s\tremaining: 1.22s\n",
            "856:\tlearn: 6647.8519072\ttotal: 7.24s\tremaining: 1.21s\n",
            "857:\tlearn: 6646.8147936\ttotal: 7.24s\tremaining: 1.2s\n",
            "858:\tlearn: 6642.2886254\ttotal: 7.25s\tremaining: 1.19s\n",
            "859:\tlearn: 6635.7420174\ttotal: 7.25s\tremaining: 1.18s\n",
            "860:\tlearn: 6630.8773748\ttotal: 7.26s\tremaining: 1.17s\n",
            "861:\tlearn: 6621.2303137\ttotal: 7.27s\tremaining: 1.16s\n",
            "862:\tlearn: 6611.6972419\ttotal: 7.27s\tremaining: 1.15s\n",
            "863:\tlearn: 6601.1967350\ttotal: 7.28s\tremaining: 1.15s\n",
            "864:\tlearn: 6595.8682384\ttotal: 7.28s\tremaining: 1.14s\n",
            "865:\tlearn: 6586.6154529\ttotal: 7.29s\tremaining: 1.13s\n",
            "866:\tlearn: 6582.2331380\ttotal: 7.29s\tremaining: 1.12s\n",
            "867:\tlearn: 6579.0617815\ttotal: 7.3s\tremaining: 1.11s\n",
            "868:\tlearn: 6573.4711458\ttotal: 7.3s\tremaining: 1.1s\n",
            "869:\tlearn: 6567.1521404\ttotal: 7.31s\tremaining: 1.09s\n",
            "870:\tlearn: 6561.8872220\ttotal: 7.32s\tremaining: 1.08s\n",
            "871:\tlearn: 6557.9177649\ttotal: 7.32s\tremaining: 1.07s\n",
            "872:\tlearn: 6545.5584057\ttotal: 7.33s\tremaining: 1.06s\n",
            "873:\tlearn: 6539.1788478\ttotal: 7.33s\tremaining: 1.06s\n",
            "874:\tlearn: 6532.5263455\ttotal: 7.34s\tremaining: 1.05s\n",
            "875:\tlearn: 6521.0968203\ttotal: 7.34s\tremaining: 1.04s\n",
            "876:\tlearn: 6520.4325703\ttotal: 7.35s\tremaining: 1.03s\n",
            "877:\tlearn: 6514.0283593\ttotal: 7.36s\tremaining: 1.02s\n",
            "878:\tlearn: 6502.5687347\ttotal: 7.36s\tremaining: 1.01s\n",
            "879:\tlearn: 6493.8957659\ttotal: 7.37s\tremaining: 1s\n",
            "880:\tlearn: 6491.5666440\ttotal: 7.37s\tremaining: 996ms\n",
            "881:\tlearn: 6482.8350820\ttotal: 7.38s\tremaining: 987ms\n",
            "882:\tlearn: 6481.8658972\ttotal: 7.38s\tremaining: 979ms\n",
            "883:\tlearn: 6470.1208793\ttotal: 7.39s\tremaining: 970ms\n",
            "884:\tlearn: 6459.7227628\ttotal: 7.4s\tremaining: 961ms\n",
            "885:\tlearn: 6452.4264519\ttotal: 7.4s\tremaining: 952ms\n",
            "886:\tlearn: 6446.5706226\ttotal: 7.41s\tremaining: 944ms\n",
            "887:\tlearn: 6446.0210070\ttotal: 7.42s\tremaining: 935ms\n",
            "888:\tlearn: 6441.0278671\ttotal: 7.42s\tremaining: 927ms\n",
            "889:\tlearn: 6431.4557538\ttotal: 7.43s\tremaining: 918ms\n",
            "890:\tlearn: 6424.0416861\ttotal: 7.43s\tremaining: 909ms\n",
            "891:\tlearn: 6420.8830121\ttotal: 7.45s\tremaining: 901ms\n",
            "892:\tlearn: 6420.1744129\ttotal: 7.45s\tremaining: 893ms\n",
            "893:\tlearn: 6413.2281521\ttotal: 7.46s\tremaining: 884ms\n",
            "894:\tlearn: 6409.6271256\ttotal: 7.46s\tremaining: 876ms\n",
            "895:\tlearn: 6401.2236366\ttotal: 7.47s\tremaining: 867ms\n",
            "896:\tlearn: 6395.9638691\ttotal: 7.47s\tremaining: 858ms\n",
            "897:\tlearn: 6389.8339610\ttotal: 7.48s\tremaining: 850ms\n",
            "898:\tlearn: 6388.3055794\ttotal: 7.48s\tremaining: 841ms\n",
            "899:\tlearn: 6387.3789501\ttotal: 7.49s\tremaining: 832ms\n",
            "900:\tlearn: 6380.6011345\ttotal: 7.5s\tremaining: 824ms\n",
            "901:\tlearn: 6372.4095270\ttotal: 7.5s\tremaining: 815ms\n",
            "902:\tlearn: 6363.9979058\ttotal: 7.51s\tremaining: 807ms\n",
            "903:\tlearn: 6361.8232687\ttotal: 7.52s\tremaining: 798ms\n",
            "904:\tlearn: 6352.0382264\ttotal: 7.52s\tremaining: 790ms\n",
            "905:\tlearn: 6342.5070336\ttotal: 7.53s\tremaining: 781ms\n",
            "906:\tlearn: 6331.1621337\ttotal: 7.53s\tremaining: 772ms\n",
            "907:\tlearn: 6321.4220921\ttotal: 7.54s\tremaining: 764ms\n",
            "908:\tlearn: 6314.4107313\ttotal: 7.54s\tremaining: 755ms\n",
            "909:\tlearn: 6306.3880633\ttotal: 7.55s\tremaining: 747ms\n",
            "910:\tlearn: 6299.1058054\ttotal: 7.56s\tremaining: 738ms\n",
            "911:\tlearn: 6289.3654232\ttotal: 7.56s\tremaining: 730ms\n",
            "912:\tlearn: 6288.8551311\ttotal: 7.57s\tremaining: 721ms\n",
            "913:\tlearn: 6277.6453183\ttotal: 7.57s\tremaining: 713ms\n",
            "914:\tlearn: 6276.8563260\ttotal: 7.58s\tremaining: 704ms\n",
            "915:\tlearn: 6269.7406815\ttotal: 7.59s\tremaining: 696ms\n",
            "916:\tlearn: 6261.3549119\ttotal: 7.59s\tremaining: 687ms\n",
            "917:\tlearn: 6257.9711785\ttotal: 7.6s\tremaining: 679ms\n",
            "918:\tlearn: 6247.3259300\ttotal: 7.61s\tremaining: 670ms\n",
            "919:\tlearn: 6246.1680884\ttotal: 7.61s\tremaining: 662ms\n",
            "920:\tlearn: 6238.9138130\ttotal: 7.62s\tremaining: 653ms\n",
            "921:\tlearn: 6229.5373192\ttotal: 7.62s\tremaining: 645ms\n",
            "922:\tlearn: 6221.8354947\ttotal: 7.63s\tremaining: 636ms\n",
            "923:\tlearn: 6212.7497748\ttotal: 7.63s\tremaining: 628ms\n",
            "924:\tlearn: 6204.6334984\ttotal: 7.64s\tremaining: 619ms\n",
            "925:\tlearn: 6198.7883503\ttotal: 7.64s\tremaining: 611ms\n",
            "926:\tlearn: 6197.7988396\ttotal: 7.65s\tremaining: 603ms\n",
            "927:\tlearn: 6192.8680290\ttotal: 7.66s\tremaining: 594ms\n",
            "928:\tlearn: 6191.4146547\ttotal: 7.66s\tremaining: 586ms\n",
            "929:\tlearn: 6189.6711676\ttotal: 7.67s\tremaining: 577ms\n",
            "930:\tlearn: 6182.9198327\ttotal: 7.67s\tremaining: 569ms\n",
            "931:\tlearn: 6177.9228227\ttotal: 7.68s\tremaining: 560ms\n",
            "932:\tlearn: 6170.7723704\ttotal: 7.68s\tremaining: 552ms\n",
            "933:\tlearn: 6168.1893732\ttotal: 7.69s\tremaining: 543ms\n",
            "934:\tlearn: 6165.0546293\ttotal: 7.7s\tremaining: 535ms\n",
            "935:\tlearn: 6155.7827959\ttotal: 7.7s\tremaining: 527ms\n",
            "936:\tlearn: 6145.3098153\ttotal: 7.71s\tremaining: 518ms\n",
            "937:\tlearn: 6139.7883630\ttotal: 7.71s\tremaining: 510ms\n",
            "938:\tlearn: 6139.3227387\ttotal: 7.72s\tremaining: 502ms\n",
            "939:\tlearn: 6130.5962624\ttotal: 7.73s\tremaining: 493ms\n",
            "940:\tlearn: 6126.5117557\ttotal: 7.74s\tremaining: 485ms\n",
            "941:\tlearn: 6122.3013052\ttotal: 7.75s\tremaining: 477ms\n",
            "942:\tlearn: 6117.2670479\ttotal: 7.75s\tremaining: 469ms\n",
            "943:\tlearn: 6110.4485134\ttotal: 7.76s\tremaining: 460ms\n",
            "944:\tlearn: 6102.4703806\ttotal: 7.77s\tremaining: 452ms\n",
            "945:\tlearn: 6097.0228856\ttotal: 7.77s\tremaining: 444ms\n",
            "946:\tlearn: 6091.8335461\ttotal: 7.78s\tremaining: 435ms\n",
            "947:\tlearn: 6083.5426925\ttotal: 7.78s\tremaining: 427ms\n",
            "948:\tlearn: 6071.4873945\ttotal: 7.79s\tremaining: 419ms\n",
            "949:\tlearn: 6064.3068169\ttotal: 7.8s\tremaining: 410ms\n",
            "950:\tlearn: 6055.6793224\ttotal: 7.8s\tremaining: 402ms\n",
            "951:\tlearn: 6051.0488330\ttotal: 7.81s\tremaining: 394ms\n",
            "952:\tlearn: 6048.4020868\ttotal: 7.81s\tremaining: 385ms\n",
            "953:\tlearn: 6036.7453109\ttotal: 7.82s\tremaining: 377ms\n",
            "954:\tlearn: 6033.3437011\ttotal: 7.83s\tremaining: 369ms\n",
            "955:\tlearn: 6032.7255131\ttotal: 7.83s\tremaining: 360ms\n",
            "956:\tlearn: 6024.8686133\ttotal: 7.84s\tremaining: 352ms\n",
            "957:\tlearn: 6014.8448562\ttotal: 7.84s\tremaining: 344ms\n",
            "958:\tlearn: 6009.4462470\ttotal: 7.85s\tremaining: 336ms\n",
            "959:\tlearn: 6001.7500141\ttotal: 7.85s\tremaining: 327ms\n",
            "960:\tlearn: 5999.2349093\ttotal: 7.86s\tremaining: 319ms\n",
            "961:\tlearn: 5994.2682869\ttotal: 7.86s\tremaining: 311ms\n",
            "962:\tlearn: 5993.7646748\ttotal: 7.87s\tremaining: 302ms\n",
            "963:\tlearn: 5986.1327971\ttotal: 7.87s\tremaining: 294ms\n",
            "964:\tlearn: 5979.9096223\ttotal: 7.88s\tremaining: 286ms\n",
            "965:\tlearn: 5971.2447917\ttotal: 7.88s\tremaining: 278ms\n",
            "966:\tlearn: 5965.9279026\ttotal: 7.89s\tremaining: 269ms\n",
            "967:\tlearn: 5959.9856100\ttotal: 7.9s\tremaining: 261ms\n",
            "968:\tlearn: 5951.8280537\ttotal: 7.9s\tremaining: 253ms\n",
            "969:\tlearn: 5947.1079724\ttotal: 7.91s\tremaining: 245ms\n",
            "970:\tlearn: 5940.9936724\ttotal: 7.91s\tremaining: 236ms\n",
            "971:\tlearn: 5934.9308091\ttotal: 7.92s\tremaining: 228ms\n",
            "972:\tlearn: 5928.4842132\ttotal: 7.92s\tremaining: 220ms\n",
            "973:\tlearn: 5923.0975513\ttotal: 7.93s\tremaining: 212ms\n",
            "974:\tlearn: 5917.6707021\ttotal: 7.94s\tremaining: 203ms\n",
            "975:\tlearn: 5911.7049972\ttotal: 7.95s\tremaining: 195ms\n",
            "976:\tlearn: 5911.2203675\ttotal: 7.95s\tremaining: 187ms\n",
            "977:\tlearn: 5906.5244503\ttotal: 7.96s\tremaining: 179ms\n",
            "978:\tlearn: 5897.8079870\ttotal: 7.96s\tremaining: 171ms\n",
            "979:\tlearn: 5895.0179769\ttotal: 7.97s\tremaining: 163ms\n",
            "980:\tlearn: 5889.9830844\ttotal: 7.97s\tremaining: 154ms\n",
            "981:\tlearn: 5887.8078958\ttotal: 7.98s\tremaining: 146ms\n",
            "982:\tlearn: 5881.5382953\ttotal: 7.99s\tremaining: 138ms\n",
            "983:\tlearn: 5881.0600855\ttotal: 7.99s\tremaining: 130ms\n",
            "984:\tlearn: 5880.5194976\ttotal: 8s\tremaining: 122ms\n",
            "985:\tlearn: 5871.4536987\ttotal: 8s\tremaining: 114ms\n",
            "986:\tlearn: 5863.7051516\ttotal: 8.01s\tremaining: 105ms\n",
            "987:\tlearn: 5852.0189668\ttotal: 8.01s\tremaining: 97.3ms\n",
            "988:\tlearn: 5843.8194598\ttotal: 8.02s\tremaining: 89.2ms\n",
            "989:\tlearn: 5836.3620174\ttotal: 8.02s\tremaining: 81ms\n",
            "990:\tlearn: 5826.3090177\ttotal: 8.03s\tremaining: 72.9ms\n",
            "991:\tlearn: 5820.6535701\ttotal: 8.04s\tremaining: 64.8ms\n",
            "992:\tlearn: 5813.6916062\ttotal: 8.04s\tremaining: 56.7ms\n",
            "993:\tlearn: 5807.6301451\ttotal: 8.05s\tremaining: 48.6ms\n",
            "994:\tlearn: 5806.3640763\ttotal: 8.05s\tremaining: 40.5ms\n",
            "995:\tlearn: 5804.6611128\ttotal: 8.06s\tremaining: 32.4ms\n",
            "996:\tlearn: 5794.6102781\ttotal: 8.06s\tremaining: 24.3ms\n",
            "997:\tlearn: 5789.0065943\ttotal: 8.07s\tremaining: 16.2ms\n",
            "998:\tlearn: 5786.5948303\ttotal: 8.07s\tremaining: 8.08ms\n",
            "999:\tlearn: 5786.1391722\ttotal: 8.08s\tremaining: 0us\n"
          ]
        },
        {
          "output_type": "execute_result",
          "data": {
            "text/plain": [
              "<catboost.core.CatBoostRegressor at 0x7fd721383c10>"
            ]
          },
          "metadata": {},
          "execution_count": 37
        }
      ]
    },
    {
      "cell_type": "markdown",
      "metadata": {
        "id": "xNkXL1YQBiBT"
      },
      "source": [
        "## Predicting the Test set results"
      ]
    },
    {
      "cell_type": "code",
      "source": [
        "y_pred = regressor.predict(X_test).astype(int)"
      ],
      "metadata": {
        "id": "bl7qhltxx7zg"
      },
      "execution_count": 38,
      "outputs": []
    },
    {
      "cell_type": "code",
      "source": [
        "from sklearn.metrics import r2_score\n",
        "r2_score(y_test, y_pred)"
      ],
      "metadata": {
        "colab": {
          "base_uri": "https://localhost:8080/"
        },
        "id": "FpXhP7XW-yfM",
        "outputId": "c0ee5eeb-14ef-4582-f5f7-1a200dcbf9e3"
      },
      "execution_count": 39,
      "outputs": [
        {
          "output_type": "execute_result",
          "data": {
            "text/plain": [
              "0.8857162519942979"
            ]
          },
          "metadata": {},
          "execution_count": 39
        }
      ]
    },
    {
      "cell_type": "code",
      "source": [
        "y_test_pred = regressor.predict(X_test_pred)\n",
        "np.set_printoptions(precision=1)\n",
        "print(y_test_pred)"
      ],
      "metadata": {
        "id": "sBXFNihi_ulG",
        "colab": {
          "base_uri": "https://localhost:8080/"
        },
        "outputId": "eb033a24-a08b-4008-cac5-13ecfbce6119"
      },
      "execution_count": 40,
      "outputs": [
        {
          "output_type": "stream",
          "name": "stdout",
          "text": [
            "[121916.3 166268.5 186545.7 ... 170433.7 112249.6 219672.2]\n"
          ]
        }
      ]
    },
    {
      "cell_type": "code",
      "source": [
        "my_submission = pd.DataFrame({'Id': test_dataset['Id'], 'SalePrice': y_test_pred})\n",
        "# you could use any filename. We choose submission here\n",
        "print(my_submission)\n",
        "my_submission.to_csv('submission_new.csv', index=False)"
      ],
      "metadata": {
        "colab": {
          "base_uri": "https://localhost:8080/"
        },
        "id": "NyQ8aOzi2Tqu",
        "outputId": "ea5563ea-dba7-4b35-da5a-39dea4d753a8"
      },
      "execution_count": 41,
      "outputs": [
        {
          "output_type": "stream",
          "name": "stdout",
          "text": [
            "        Id      SalePrice\n",
            "0     1461  121916.272905\n",
            "1     1462  166268.511921\n",
            "2     1463  186545.682427\n",
            "3     1464  193951.601007\n",
            "4     1465  181572.473390\n",
            "...    ...            ...\n",
            "1454  2915   76529.713539\n",
            "1455  2916   80453.239701\n",
            "1456  2917  170433.721106\n",
            "1457  2918  112249.553673\n",
            "1458  2919  219672.218727\n",
            "\n",
            "[1459 rows x 2 columns]\n"
          ]
        }
      ]
    }
  ]
}